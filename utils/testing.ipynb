{
 "cells": [
  {
   "cell_type": "code",
   "execution_count": 53,
   "metadata": {},
   "outputs": [],
   "source": [
    "import cv2 as cv\n",
    "\n",
    "image = cv.imread(\"../data/images/road818.png\")"
   ]
  },
  {
   "cell_type": "code",
   "execution_count": 4,
   "metadata": {},
   "outputs": [],
   "source": [
    "def show_img(img, title:str=\"Image\"):\n",
    "    cv.imshow(title, img)\n",
    "    cv.waitKey(0)\n",
    "    cv.destroyWindow(title)"
   ]
  },
  {
   "cell_type": "code",
   "execution_count": 8,
   "metadata": {},
   "outputs": [],
   "source": [
    "def contrast(bgr_image):\n",
    "    ycrcb_image = cv.cvtColor(bgr_image, cv.COLOR_BGR2YCrCb)\n",
    "    \n",
    "    y, cr, cb = cv.split(ycrcb_image)\n",
    "    y_equalized = cv.equalizeHist(y)\n",
    "    equalized_image = cv.merge([y_equalized, cr, cb])\n",
    "    return cv.cvtColor(equalized_image, cv.COLOR_YCrCb2BGR)"
   ]
  },
  {
   "cell_type": "code",
   "execution_count": 24,
   "metadata": {},
   "outputs": [],
   "source": [
    "def automatic_brightness_contrast(bgr_image, clip_hist_percent = 0.01, use_scale_abs = True, return_verbose = False):\n",
    "    gray_image = cv.cvtColor(bgr_image, cv.COLOR_BGR2GRAY)\n",
    "\n",
    "    # Grayscale histogram of the image\n",
    "    hist = cv.calcHist([gray_image], [0], None, [256], [0, 256])\n",
    "    hist_size = len(hist)\n",
    "\n",
    "    # Cumulative distribution of the histogram\n",
    "    acc = []\n",
    "    acc.append( float(hist[0]) )\n",
    "    for i in range(1, hist_size):\n",
    "        acc.append( acc[i - 1] + float(hist[i]) )\n",
    "    \n",
    "    # Locate points to clip\n",
    "    maximum = acc[-1]\n",
    "    clip_hist = clip_hist_percent * maximum / 2.0\n",
    "\n",
    "    # Left cut\n",
    "    minimum_gray = 0\n",
    "    while acc[minimum_gray] < clip_hist:\n",
    "        minimum_gray += 1\n",
    "\n",
    "    # Right cut\n",
    "    maximum_gray = hist_size - 1\n",
    "    while acc[maximum_gray] >= (maximum - clip_hist):\n",
    "        maximum_gray -= 1\n",
    "\n",
    "    # Calculate alpha and beta values for the scaling\n",
    "    alpha = 255 / (maximum_gray - minimum_gray)\n",
    "    beta = - minimum_gray * alpha\n",
    "\n",
    "    if use_scale_abs:\n",
    "        processed_image = cv.convertScaleAbs(bgr_image, alpha=alpha, beta=beta)\n",
    "    else:\n",
    "        processed_image = bgr_image * alpha + beta\n",
    "        processed_image[processed_image < 0] = 0\n",
    "        processed_image[processed_image > 255] = 255\n",
    "\n",
    "    if return_verbose:\n",
    "        processed_hist = cv.calcHist([gray_image], [0], None, [256], [minimum_gray, maximum_gray])\n",
    "\n",
    "        return processed_image, alpha, beta, hist, processed_hist\n",
    "    \n",
    "    return processed_image"
   ]
  },
  {
   "cell_type": "code",
   "execution_count": 34,
   "metadata": {},
   "outputs": [],
   "source": [
    "def LaplacianOfGaussian(bgr_image):\n",
    "    log_image = cv.GaussianBlur(bgr_image, (3, 3), 0)\n",
    "    gray_image = cv.cvtColor(log_image, cv.COLOR_BGR2GRAY)\n",
    "    log_image = cv.Laplacian(log_image, cv.CV_8U, ksize=3, scale=1, delta=0)\n",
    "    return cv.convertScaleAbs(log_image)"
   ]
  },
  {
   "cell_type": "code",
   "execution_count": 62,
   "metadata": {},
   "outputs": [],
   "source": [
    "show_img(image)\n",
    "\n",
    "new_img = automatic_brightness_contrast(image, clip_hist_percent=0.1, use_scale_abs=True)\n",
    "\n",
    "#new_img = LaplacianOfGaussian(new_img)\n",
    "show_img(new_img)"
   ]
  },
  {
   "cell_type": "code",
   "execution_count": 46,
   "metadata": {},
   "outputs": [],
   "source": [
    "def extract_red_hsv(hsv_image, return_split = False):\n",
    "    # First zone of reds\n",
    "    lowerbound_1 = np.array([0, 40, 25])\n",
    "    upperbound_1 = np.array([10, 255, 255])\n",
    "\n",
    "    # Second zone of reds\n",
    "    lowerbound_2 = np.array([135, 40, 25])\n",
    "    upperbound_2 = np.array([179, 255, 255])\n",
    "\n",
    "    red_1 = cv.inRange(hsv_image, lowerbound_1, upperbound_1)\n",
    "    red_2 = cv.inRange(hsv_image, lowerbound_2, upperbound_2)\n",
    "\n",
    "    if return_split:\n",
    "        return red_1, red_2\n",
    "    \n",
    "    return cv.bitwise_or(red_1, red_2)\n",
    "\n",
    "def extract_blue_hsv(hsv_image):\n",
    "    lowerbound = np.array([100, 160, 40])\n",
    "    upperbound = np.array([120, 255, 255])\n",
    "\n",
    "    return cv.inRange(hsv_image, lowerbound, upperbound)"
   ]
  },
  {
   "cell_type": "code",
   "execution_count": 47,
   "metadata": {},
   "outputs": [],
   "source": [
    "def binarize(bgr_image, threshold_percent = 0.75, return_thresh = False):\n",
    "    gray_image = cv.cvtColor(bgr_image, cv.COLOR_BGR2GRAY)\n",
    "\n",
    "    threshold = int(threshold_percent * 255)\n",
    "\n",
    "    thresh, thresh_image = cv.threshold(gray_image, threshold, 255, cv.THRESH_BINARY + cv.THRESH_OTSU)\n",
    "\n",
    "    if return_thresh:\n",
    "        return thresh_image, thresh\n",
    "    return thresh_image"
   ]
  },
  {
   "cell_type": "code",
   "execution_count": 105,
   "metadata": {},
   "outputs": [],
   "source": [
    "def extractObjects(bgr_image, contours):\n",
    "    out_image = np.zeros_like(bgr_image)\n",
    "\n",
    "    for contour in contours:\n",
    "        x, y, w, h = cv.boundingRect(contour)\n",
    "        out_image[y:y+h, x:x+w] = bgr_image[y:y+h, x:x+w]\n",
    "    \n",
    "    return out_image"
   ]
  },
  {
   "cell_type": "code",
   "execution_count": 104,
   "metadata": {},
   "outputs": [],
   "source": [
    "show_img(red_img)"
   ]
  },
  {
   "cell_type": "code",
   "execution_count": 106,
   "metadata": {},
   "outputs": [],
   "source": [
    "objects = extractObjects(image, contours)"
   ]
  },
  {
   "cell_type": "code",
   "execution_count": 119,
   "metadata": {},
   "outputs": [],
   "source": [
    "contrast_image = automatic_brightness_contrast(objects, 0.05)"
   ]
  },
  {
   "cell_type": "code",
   "execution_count": 129,
   "metadata": {},
   "outputs": [],
   "source": [
    "red_mask = extract_red_hsv(objects)\n",
    "\n",
    "white_mask = cv.inRange(cv.cvtColor(objects, cv.COLOR_BGR2HSV), np.array([0, 0, 130]), np.array([255, 40, 255]))\n",
    "\n",
    "mask = cv.bitwise_or(red_mask, white_mask)\n",
    "\n",
    "cropped_objects = cv.bitwise_and(objects, objects, mask=mask)\n",
    "show_img(objects)\n",
    "show_img(cropped_objects)\n",
    "\n",
    "bin_image = binarize(cropped_objects)"
   ]
  },
  {
   "cell_type": "code",
   "execution_count": 127,
   "metadata": {},
   "outputs": [],
   "source": [
    "show_img(bin_image)\n",
    "kernel = np.ones((3, 3), np.uint8)\n",
    "morph_img = cv.morphologyEx(bin_image, cv.MORPH_DILATE, kernel)\n",
    "show_img(morph_img)"
   ]
  },
  {
   "cell_type": "code",
   "execution_count": null,
   "metadata": {},
   "outputs": [],
   "source": [
    "# WARMING FILTER\n",
    "# https://towardsdatascience.com/python-opencv-building-instagram-like-image-filters-5c482c1c5079\n",
    "\n",
    "def _create_LUT_8UC1(x, y):\n",
    "  spl = UnivariateSpline(x, y)\n",
    "  return spl(range(256))\n",
    "\n",
    "# TODO better lut values for reds\n",
    "incr_ch_lut = _create_LUT_8UC1([0, 64, 128, 256],[0, 80, 160, 256])\n",
    "decr_ch_lut = _create_LUT_8UC1([0, 64, 128, 256],[0, 50,  100, 255])\n",
    "\n",
    "def render(img_rgb):\n",
    "    c_r, c_g, c_b = cv.split(img_rgb)\n",
    "    c_r = cv.LUT(c_r, incr_ch_lut).astype(np.uint8)\n",
    "    c_b = cv.LUT(c_b, decr_ch_lut).astype(np.uint8)\n",
    "  \n",
    "    return  cv.merge((c_r, c_g, c_b)) \n",
    "\n",
    "bla = cv.cvtColor(src_image, cv.COLOR_BGR2RGB)  \n",
    "display_bgr_image(render(bla))\n",
    "\n",
    "src_image = bla"
   ]
  }
 ],
 "metadata": {
  "interpreter": {
   "hash": "54c6638086fab4cdd44262421cfa14d1d96be689a356dd3ef0d28ae6e964d53f"
  },
  "kernelspec": {
   "display_name": "Python 3.8.9 64-bit",
   "language": "python",
   "name": "python3"
  },
  "language_info": {
   "codemirror_mode": {
    "name": "ipython",
    "version": 3
   },
   "file_extension": ".py",
   "mimetype": "text/x-python",
   "name": "python",
   "nbconvert_exporter": "python",
   "pygments_lexer": "ipython3",
   "version": "3.8.9"
  },
  "orig_nbformat": 4
 },
 "nbformat": 4,
 "nbformat_minor": 2
}
