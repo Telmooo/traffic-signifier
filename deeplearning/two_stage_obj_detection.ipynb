{
 "cells": [
  {
   "cell_type": "markdown",
   "metadata": {},
   "source": [
    "# Two-Stage Object detection w/ Freeze Learning & Fine-tuning\n",
    "For this approach, it will be used a pretrained DensetNet201 as a backbone for a F-RCNN model for object detection, to which it will be applied freeze learning and fine-tuning to our task."
   ]
  },
  {
   "cell_type": "code",
   "execution_count": 1,
   "metadata": {},
   "outputs": [],
   "source": [
    "import os\n",
    "\n",
    "DATA_DIR = \"../data/\"\n",
    "IMG_DIR = DATA_DIR + \"/images/\"\n",
    "ANNOTATION_DIR = DATA_DIR + \"/annotations/\"\n",
    "SPLITS_DIR = DATA_DIR + \"/dl-split/\"\n",
    "OUT_DIR = \"./out/two_stage_obj_det/\"\n",
    "\n",
    "os.makedirs(OUT_DIR, exist_ok=True)\n",
    "\n",
    "SEED = 42"
   ]
  },
  {
   "cell_type": "markdown",
   "metadata": {},
   "source": [
    "# Utility Function"
   ]
  },
  {
   "cell_type": "code",
   "execution_count": 2,
   "metadata": {},
   "outputs": [],
   "source": [
    "import matplotlib.pyplot as plt\n",
    "def plot_training_history(train_history, val_history, model_name, phase_name, out_dir):\n",
    "    fig, (loss_ax, map_ax) = plt.subplots(figsize=(12, 8), nrows=2)\n",
    "    fig.suptitle(f\"{model_name} - {phase_name} History\")\n",
    "    loss_ax.set_title(\"Cross Entropy Loss\")\n",
    "    loss_ax.plot(train_history, label=\"train\")\n",
    "    loss_ax.legend(loc=\"best\")\n",
    "\n",
    "    map_ax.set_title(\"Classification mAP\")\n",
    "    map_ax.plot(val_history, label=\"val\")\n",
    "    map_ax.legend(loc=\"best\")\n",
    "\n",
    "    plt.tight_layout()\n",
    "\n",
    "    fig.savefig(f\"{out_dir}/{model_name}_{phase_name}_history.png\", dpi=150, bbox_inches='tight')\n",
    "\n",
    "    return fig"
   ]
  },
  {
   "cell_type": "markdown",
   "metadata": {},
   "source": [
    "# Load Dataset"
   ]
  },
  {
   "cell_type": "code",
   "execution_count": 3,
   "metadata": {},
   "outputs": [],
   "source": [
    "# Fetching pre-defined splits\n",
    "train_split = []\n",
    "test_split = []\n",
    "\n",
    "with open(SPLITS_DIR + \"/train.txt\") as train_split_f:\n",
    "    train_split = [line.strip(\"\\n\") for line in train_split_f.readlines()]\n",
    "\n",
    "with open(SPLITS_DIR + \"/test.txt\") as test_split_f:\n",
    "    test_split = [line.strip(\"\\n\") for line in test_split_f.readlines()]"
   ]
  },
  {
   "cell_type": "code",
   "execution_count": 4,
   "metadata": {},
   "outputs": [],
   "source": [
    "# Label mapping\n",
    "label_encode_map = {\n",
    "    \"background\": 0,\n",
    "    \"trafficlight\": 1,\n",
    "    \"speedlimit\": 2,\n",
    "    \"crosswalk\": 3,\n",
    "    \"stop\": 4,\n",
    "}\n",
    "\n",
    "label_decode_map = {\n",
    "    0: \"background\",\n",
    "    1: \"trafficlight\",\n",
    "    2: \"speedlimit\",\n",
    "    3: \"crosswalk\",\n",
    "    4: \"stop\",\n",
    "}"
   ]
  },
  {
   "cell_type": "markdown",
   "metadata": {},
   "source": [
    "# Split training dataset in a balanced manner"
   ]
  },
  {
   "cell_type": "code",
   "execution_count": 5,
   "metadata": {},
   "outputs": [],
   "source": [
    "from utils.utils import parse_annotation\n",
    "\n",
    "def get_annotations(split):\n",
    "    annotations = {}\n",
    "    for id in split:\n",
    "        annotation = parse_annotation(f\"{ANNOTATION_DIR}/{id}.xml\", label_encode_map, return_biggest = True)\n",
    "        annotation[\"labels\"] = annotation[\"labels\"][0]\n",
    "        annotations[id] = annotation\n",
    "\n",
    "    return annotations\n",
    "\n",
    "annotations = get_annotations(train_split)"
   ]
  },
  {
   "cell_type": "code",
   "execution_count": 6,
   "metadata": {},
   "outputs": [
    {
     "data": {
      "text/html": [
       "<div>\n",
       "<style scoped>\n",
       "    .dataframe tbody tr th:only-of-type {\n",
       "        vertical-align: middle;\n",
       "    }\n",
       "\n",
       "    .dataframe tbody tr th {\n",
       "        vertical-align: top;\n",
       "    }\n",
       "\n",
       "    .dataframe thead th {\n",
       "        text-align: right;\n",
       "    }\n",
       "</style>\n",
       "<table border=\"1\" class=\"dataframe\">\n",
       "  <thead>\n",
       "    <tr style=\"text-align: right;\">\n",
       "      <th></th>\n",
       "      <th>width</th>\n",
       "      <th>height</th>\n",
       "      <th>labels</th>\n",
       "      <th>boxes</th>\n",
       "      <th>areas</th>\n",
       "    </tr>\n",
       "  </thead>\n",
       "  <tbody>\n",
       "    <tr>\n",
       "      <th>road706</th>\n",
       "      <td>300.0</td>\n",
       "      <td>400.0</td>\n",
       "      <td>2</td>\n",
       "      <td>[[135.0, 159.0, 177.0, 201.0]]</td>\n",
       "      <td>[1764.0]</td>\n",
       "    </tr>\n",
       "    <tr>\n",
       "      <th>road538</th>\n",
       "      <td>300.0</td>\n",
       "      <td>400.0</td>\n",
       "      <td>2</td>\n",
       "      <td>[[115.0, 169.0, 149.0, 205.0]]</td>\n",
       "      <td>[1224.0]</td>\n",
       "    </tr>\n",
       "    <tr>\n",
       "      <th>road510</th>\n",
       "      <td>300.0</td>\n",
       "      <td>400.0</td>\n",
       "      <td>2</td>\n",
       "      <td>[[89.0, 201.0, 133.0, 245.0]]</td>\n",
       "      <td>[1936.0]</td>\n",
       "    </tr>\n",
       "    <tr>\n",
       "      <th>road504</th>\n",
       "      <td>300.0</td>\n",
       "      <td>400.0</td>\n",
       "      <td>2</td>\n",
       "      <td>[[92.0, 230.0, 139.0, 277.0]]</td>\n",
       "      <td>[2209.0]</td>\n",
       "    </tr>\n",
       "    <tr>\n",
       "      <th>road458</th>\n",
       "      <td>300.0</td>\n",
       "      <td>400.0</td>\n",
       "      <td>2</td>\n",
       "      <td>[[67.0, 116.0, 139.0, 189.0]]</td>\n",
       "      <td>[5256.0]</td>\n",
       "    </tr>\n",
       "    <tr>\n",
       "      <th>...</th>\n",
       "      <td>...</td>\n",
       "      <td>...</td>\n",
       "      <td>...</td>\n",
       "      <td>...</td>\n",
       "      <td>...</td>\n",
       "    </tr>\n",
       "    <tr>\n",
       "      <th>road247</th>\n",
       "      <td>300.0</td>\n",
       "      <td>400.0</td>\n",
       "      <td>2</td>\n",
       "      <td>[[139.0, 218.0, 156.0, 236.0]]</td>\n",
       "      <td>[306.0]</td>\n",
       "    </tr>\n",
       "    <tr>\n",
       "      <th>road253</th>\n",
       "      <td>300.0</td>\n",
       "      <td>400.0</td>\n",
       "      <td>2</td>\n",
       "      <td>[[128.0, 87.0, 187.0, 144.0]]</td>\n",
       "      <td>[3363.0]</td>\n",
       "    </tr>\n",
       "    <tr>\n",
       "      <th>road535</th>\n",
       "      <td>300.0</td>\n",
       "      <td>400.0</td>\n",
       "      <td>2</td>\n",
       "      <td>[[100.0, 254.0, 180.0, 334.0]]</td>\n",
       "      <td>[6400.0]</td>\n",
       "    </tr>\n",
       "    <tr>\n",
       "      <th>road284</th>\n",
       "      <td>300.0</td>\n",
       "      <td>400.0</td>\n",
       "      <td>2</td>\n",
       "      <td>[[111.0, 133.0, 165.0, 187.0]]</td>\n",
       "      <td>[2916.0]</td>\n",
       "    </tr>\n",
       "    <tr>\n",
       "      <th>road723</th>\n",
       "      <td>300.0</td>\n",
       "      <td>400.0</td>\n",
       "      <td>2</td>\n",
       "      <td>[[115.0, 185.0, 160.0, 230.0]]</td>\n",
       "      <td>[2025.0]</td>\n",
       "    </tr>\n",
       "  </tbody>\n",
       "</table>\n",
       "<p>613 rows × 5 columns</p>\n",
       "</div>"
      ],
      "text/plain": [
       "         width  height  labels                           boxes     areas\n",
       "road706  300.0   400.0       2  [[135.0, 159.0, 177.0, 201.0]]  [1764.0]\n",
       "road538  300.0   400.0       2  [[115.0, 169.0, 149.0, 205.0]]  [1224.0]\n",
       "road510  300.0   400.0       2   [[89.0, 201.0, 133.0, 245.0]]  [1936.0]\n",
       "road504  300.0   400.0       2   [[92.0, 230.0, 139.0, 277.0]]  [2209.0]\n",
       "road458  300.0   400.0       2   [[67.0, 116.0, 139.0, 189.0]]  [5256.0]\n",
       "...        ...     ...     ...                             ...       ...\n",
       "road247  300.0   400.0       2  [[139.0, 218.0, 156.0, 236.0]]   [306.0]\n",
       "road253  300.0   400.0       2   [[128.0, 87.0, 187.0, 144.0]]  [3363.0]\n",
       "road535  300.0   400.0       2  [[100.0, 254.0, 180.0, 334.0]]  [6400.0]\n",
       "road284  300.0   400.0       2  [[111.0, 133.0, 165.0, 187.0]]  [2916.0]\n",
       "road723  300.0   400.0       2  [[115.0, 185.0, 160.0, 230.0]]  [2025.0]\n",
       "\n",
       "[613 rows x 5 columns]"
      ]
     },
     "execution_count": 6,
     "metadata": {},
     "output_type": "execute_result"
    }
   ],
   "source": [
    "import pandas as pd\n",
    "train_df = pd.DataFrame.from_dict(annotations, orient=\"index\")\n",
    "train_df"
   ]
  },
  {
   "cell_type": "code",
   "execution_count": 7,
   "metadata": {},
   "outputs": [
    {
     "name": "stdout",
     "output_type": "stream",
     "text": [
      "Label Ratios\n",
      "1    0.086460\n",
      "2    0.730832\n",
      "3    0.104405\n",
      "4    0.078303\n",
      "Name: labels, dtype: float64\n"
     ]
    },
    {
     "data": {
      "image/png": "[encoded data removed]",
      "text/plain": [
       "<Figure size 432x288 with 1 Axes>"
      ]
     },
     "metadata": {
      "needs_background": "light"
     },
     "output_type": "display_data"
    },
    {
     "data": {
      "text/plain": [
       "<Figure size 432x288 with 0 Axes>"
      ]
     },
     "metadata": {},
     "output_type": "display_data"
    }
   ],
   "source": [
    "import seaborn as sns\n",
    "import matplotlib.pyplot as plt\n",
    "import numpy as np\n",
    "\n",
    "print(\"Label Ratios\")\n",
    "label_ratios = (train_df[\"labels\"].value_counts() / len(train_df[\"labels\"])).sort_index()\n",
    "print(label_ratios)\n",
    "\n",
    "fig, ax = plt.subplots()\n",
    "sns.countplot(data=train_df, x=\"labels\", ax=ax, tick_label=[\"trafficlight\", \"speedlimit\", \"crosswalk\", \"stop\"])\n",
    "ax.set_title(\"Label Distribution\")\n",
    "\n",
    "plt.show()\n",
    "plt.clf()"
   ]
  },
  {
   "cell_type": "code",
   "execution_count": 8,
   "metadata": {},
   "outputs": [
    {
     "name": "stdout",
     "output_type": "stream",
     "text": [
      "Train Label Ratios\n",
      "2    0.732106\n",
      "3    0.104294\n",
      "1    0.085890\n",
      "4    0.077710\n",
      "Name: labels, dtype: float64\n",
      "Validation Label Ratios\n",
      "2    0.725806\n",
      "3    0.104839\n",
      "1    0.088710\n",
      "4    0.080645\n",
      "Name: labels, dtype: float64\n"
     ]
    },
    {
     "data": {
      "image/png": "[encoded data removed]",
      "text/plain": [
       "<Figure size 1152x288 with 2 Axes>"
      ]
     },
     "metadata": {
      "needs_background": "light"
     },
     "output_type": "display_data"
    },
    {
     "data": {
      "text/plain": [
       "<Figure size 432x288 with 0 Axes>"
      ]
     },
     "metadata": {},
     "output_type": "display_data"
    }
   ],
   "source": [
    "# Maintain the ratios of labels across splits\n",
    "train_sample = train_df.groupby(\"labels\").sample(frac=0.8, random_state=SEED)\n",
    "val_sample = train_df.loc[train_df.index.difference(train_sample.index)]\n",
    "\n",
    "fig, (train_ax, val_ax) = plt.subplots(figsize=(16, 4), ncols=2)\n",
    "for split, df, ax in zip([\"Train\", \"Validation\"], [train_sample, val_sample], [train_ax, val_ax]):\n",
    "    sns.countplot(x=df[\"labels\"], ax=ax)\n",
    "    ax.set_title(f\"Distribution of labels on {split} sample\")\n",
    "    ax.set_xlabel(\"Label\")\n",
    "    ax.set_ylabel(\"Count\")\n",
    "    \n",
    "    print(f\"{split} Label Ratios\")\n",
    "    print(pd.Series(df[\"labels\"]).value_counts() / len(df[\"labels\"]))\n",
    "plt.show()\n",
    "plt.clf()"
   ]
  },
  {
   "cell_type": "code",
   "execution_count": 9,
   "metadata": {},
   "outputs": [],
   "source": [
    "from datasets.road_sign_dataset import RoadSignDataset\n",
    "\n",
    "# Training dataset\n",
    "training_data = RoadSignDataset(\n",
    "    img_names=train_sample.index.tolist(),\n",
    "    img_dir=IMG_DIR,\n",
    "    annotation_dir=ANNOTATION_DIR,\n",
    "    classes=label_encode_map,\n",
    "    is_train=True,\n",
    "    multilabel=False,\n",
    "    obj_detection=True\n",
    ")\n",
    "\n",
    "# Validation dataset\n",
    "validation_data = RoadSignDataset(\n",
    "    img_names=val_sample.index.tolist(),\n",
    "    img_dir=IMG_DIR,\n",
    "    annotation_dir=ANNOTATION_DIR,\n",
    "    classes=label_encode_map,\n",
    "    is_train=True,\n",
    "    multilabel=False,\n",
    "    obj_detection=True\n",
    ")\n",
    "\n",
    "# Test dataset\n",
    "testing_data = RoadSignDataset(\n",
    "    img_names=test_split,\n",
    "    img_dir=IMG_DIR,\n",
    "    annotation_dir=ANNOTATION_DIR,\n",
    "    classes=label_encode_map,\n",
    "    is_train=False,\n",
    "    multilabel=False,\n",
    "    obj_detection=True\n",
    ")"
   ]
  },
  {
   "cell_type": "markdown",
   "metadata": {},
   "source": [
    "# Create Dataloaders"
   ]
  },
  {
   "cell_type": "code",
   "execution_count": 10,
   "metadata": {},
   "outputs": [],
   "source": [
    "from torch.utils.data import DataLoader\n",
    "\n",
    "BATCH_SIZE = 8 # Tested on 1050TI with 4GB (can load at least 64 as well, but doesn't make sense to use 64 with low amount of data)\n",
    "NUM_WORKERS = 4\n",
    "\n",
    "train_dataloader = DataLoader(\n",
    "    dataset=training_data,\n",
    "    #sampler=train_sampler,\n",
    "    batch_size=BATCH_SIZE,\n",
    "    num_workers=NUM_WORKERS,\n",
    "    shuffle=True,\n",
    "    drop_last=True,\n",
    "    collate_fn=training_data.collate_fn\n",
    ")\n",
    "\n",
    "val_dataloader = DataLoader(\n",
    "    dataset=validation_data,\n",
    "    #sampler=val_sampler,\n",
    "    batch_size=BATCH_SIZE,\n",
    "    num_workers=NUM_WORKERS,\n",
    "    shuffle=True,\n",
    "    drop_last=True,\n",
    "    collate_fn=training_data.collate_fn\n",
    ")\n",
    "\n",
    "test_dataloader = DataLoader(\n",
    "    dataset=testing_data,\n",
    "    batch_size=1,\n",
    "    num_workers=NUM_WORKERS,\n",
    "    shuffle=False,\n",
    "    drop_last=False,\n",
    "    collate_fn=testing_data.collate_fn\n",
    ")"
   ]
  },
  {
   "cell_type": "markdown",
   "metadata": {},
   "source": [
    "# Model Definition"
   ]
  },
  {
   "cell_type": "code",
   "execution_count": 11,
   "metadata": {},
   "outputs": [
    {
     "data": {
      "text/plain": [
       "======================================================================\n",
       "Layer (type:depth-idx)                        Param #\n",
       "======================================================================\n",
       "FasterRCNN                                    --\n",
       "├─GeneralizedRCNNTransform: 1-1               --\n",
       "├─BackboneWithFPN: 1-2                        --\n",
       "│    └─IntermediateLayerGetter: 2-1           --\n",
       "│    │    └─Conv2d: 3-1                       9,408\n",
       "│    │    └─BatchNorm2d: 3-2                  128\n",
       "│    │    └─ReLU: 3-3                         --\n",
       "│    │    └─MaxPool2d: 3-4                    --\n",
       "│    │    └─_DenseBlock: 3-5                  335,040\n",
       "│    │    └─_Transition: 3-6                  33,280\n",
       "│    │    └─_DenseBlock: 3-7                  919,680\n",
       "│    │    └─_Transition: 3-8                  132,096\n",
       "│    │    └─_DenseBlock: 3-9                  8,071,680\n",
       "│    │    └─_Transition: 3-10                 1,609,216\n",
       "│    │    └─_DenseBlock: 3-11                 6,978,560\n",
       "│    └─FeaturePyramidNetwork: 2-2             --\n",
       "│    │    └─ModuleList: 3-12                  950,784\n",
       "│    │    └─ModuleList: 3-13                  1,180,160\n",
       "│    │    └─LastLevelMaxPool: 3-14            --\n",
       "├─RegionProposalNetwork: 1-3                  --\n",
       "│    └─AnchorGenerator: 2-3                   --\n",
       "│    └─RPNHead: 2-4                           --\n",
       "│    │    └─Conv2d: 3-15                      590,080\n",
       "│    │    └─Conv2d: 3-16                      3,855\n",
       "│    │    └─Conv2d: 3-17                      15,420\n",
       "├─RoIHeads: 1-4                               --\n",
       "│    └─MultiScaleRoIAlign: 2-5                --\n",
       "│    └─TwoMLPHead: 2-6                        --\n",
       "│    │    └─Linear: 3-18                      12,846,080\n",
       "│    │    └─Linear: 3-19                      1,049,600\n",
       "│    └─FastRCNNPredictor: 2-7                 --\n",
       "│    │    └─Linear: 3-20                      5,125\n",
       "│    │    └─Linear: 3-21                      20,500\n",
       "======================================================================\n",
       "Total params: 34,750,692\n",
       "Trainable params: 34,750,692\n",
       "Non-trainable params: 0\n",
       "======================================================================"
      ]
     },
     "execution_count": 11,
     "metadata": {},
     "output_type": "execute_result"
    }
   ],
   "source": [
    "from torchvision import models\n",
    "from torch import nn\n",
    "from torchvision.models.detection.anchor_utils import AnchorGenerator\n",
    "from torchvision.models.detection.backbone_utils import (\n",
    "    LastLevelMaxPool,\n",
    "    BackboneWithFPN\n",
    ")\n",
    "from torchinfo import summary\n",
    "\n",
    "MODEL_NAME = \"FRCNN-Densenet201\"\n",
    "N_CLASSES = 4 + 1 # 4 target classes + background\n",
    "\"\"\"_summary_\n",
    "Adapted from fasterrcnn_resnet50_fpn at https://github.com/pytorch/vision/blob/c890a7e75ebeaaa75ae9ace4c203b7fc145df068/torchvision/models/detection/faster_rcnn.py\n",
    "\"\"\"\n",
    "def get_model(n_classes):\n",
    "    backbone = models.densenet201(pretrained=True)\n",
    "    \n",
    "    return_layers = [\"denseblock3\", \"denseblock4\"] # [\"denseblock1\", \"denseblock2\", \"denseblock3\", \"denseblock4\"]\n",
    "    return_layers = {k: str(v) for v, k in enumerate(return_layers)}\n",
    "    #in_channel_list = [256, 512, 1024, 1024] # Densenet 121\n",
    "    #in_channel_list = [256, 512, 1280, 1664] # Densenet 169\n",
    "    in_channel_list = [1792, 1920] # [256, 512, 1792, 1920] # Densenet 201\n",
    "    backbone = BackboneWithFPN(\n",
    "        backbone=backbone.features,\n",
    "        return_layers=return_layers,\n",
    "        in_channels_list=in_channel_list,\n",
    "        out_channels=256,\n",
    "        extra_blocks=LastLevelMaxPool()\n",
    "    )\n",
    "    \n",
    "    anchor_sizes = ((32, 64, 128, 256, 512,),) * 3\n",
    "    aspect_ratios = ((0.5, 1.0, 2.0),) * len(anchor_sizes)\n",
    "    model = models.detection.FasterRCNN(\n",
    "        backbone=backbone,\n",
    "        num_classes=n_classes,\n",
    "        rpn_anchor_generator=AnchorGenerator(anchor_sizes, aspect_ratios)\n",
    "    )\n",
    "\n",
    "    return model\n",
    "\n",
    "model = get_model(n_classes=N_CLASSES)\n",
    "\n",
    "summary(model)"
   ]
  },
  {
   "cell_type": "markdown",
   "metadata": {},
   "source": [
    "# Define Optimizer, LR Scheduler and Metric Scorer"
   ]
  },
  {
   "cell_type": "code",
   "execution_count": 12,
   "metadata": {},
   "outputs": [],
   "source": [
    "from torch import optim\n",
    "from torchmetrics.detection.mean_ap import MeanAveragePrecision\n",
    "\n",
    "optimizer = optim.Adam(\n",
    "    params=model.parameters(),\n",
    "    lr=1e-3,\n",
    "    betas=(0.9, 0.999),\n",
    "    weight_decay=5e-4,\n",
    "    amsgrad=True\n",
    ")\n",
    "\n",
    "lr_scheduler = optim.lr_scheduler.ExponentialLR(\n",
    "    optimizer=optimizer,\n",
    "    gamma=0.90\n",
    ")\n",
    "\n",
    "def get_metric_scorer():\n",
    "    # This needs to be instantied everytime, otherwise scores accumulate\n",
    "    return MeanAveragePrecision(box_format=\"xyxy\")"
   ]
  },
  {
   "cell_type": "markdown",
   "metadata": {},
   "source": [
    "# Define Epoch Iteration"
   ]
  },
  {
   "cell_type": "code",
   "execution_count": 13,
   "metadata": {},
   "outputs": [],
   "source": [
    "import torch\n",
    "from tqdm import tqdm\n",
    "\n",
    "def train_epoch_iter(dataloader, model, device, optimizer, lr_scheduler=None):\n",
    "    num_batches = len(dataloader)\n",
    "\n",
    "    model.train()\n",
    "\n",
    "    total_loss = 0.0\n",
    "\n",
    "    scaler = torch.cuda.amp.GradScaler()\n",
    "\n",
    "    with torch.set_grad_enabled(True):\n",
    "        for _batch, (X, y) in enumerate(tqdm(dataloader)):\n",
    "            for annotation in y:\n",
    "                annotation.pop(\"imageId\")\n",
    "                annotation.pop(\"areas\")\n",
    "            X = list(x.to(device) for x in X)\n",
    "            y = [ { k: v.to(device) for k, v in annotation.items() } for annotation in y]\n",
    "\n",
    "            with torch.cuda.amp.autocast():\n",
    "                outputs = model(X, y)\n",
    "\n",
    "            losses = sum(loss for loss in outputs.values())\n",
    "\n",
    "            optimizer.zero_grad()\n",
    "            scaler.scale(losses).backward()\n",
    "            scaler.step(optimizer)\n",
    "\n",
    "            total_loss += losses.item()\n",
    "\n",
    "            scaler.update()\n",
    "    \n",
    "        if lr_scheduler is not None:\n",
    "            lr_scheduler.step()\n",
    "        \n",
    "    return total_loss / num_batches"
   ]
  },
  {
   "cell_type": "code",
   "execution_count": 14,
   "metadata": {},
   "outputs": [],
   "source": [
    "def eval_epoch_iter(dataloader, model, device):\n",
    "    model.eval()\n",
    "\n",
    "    preds = []\n",
    "    expected_labels = []\n",
    "    imageIds = []\n",
    "\n",
    "    with torch.set_grad_enabled(False):\n",
    "        for _batch, (X, y) in enumerate(tqdm(dataloader)):\n",
    "            X = list(x.to(device) for x in X)\n",
    "\n",
    "            with torch.cuda.amp.autocast():\n",
    "                outputs = model(X)\n",
    "\n",
    "            for annotation in y:\n",
    "                imageIds.append(annotation.pop(\"imageId\").item())\n",
    "                annotation.pop(\"areas\")\n",
    "\n",
    "            # Put everything in CPU for safety\n",
    "            outputs = [ {k: v.detach().cpu() for k, v in o.items()} for o in outputs ]\n",
    "            y = [ {k: v.detach().cpu() for k, v in annotation.items()} for annotation in y]\n",
    "\n",
    "            preds.extend(outputs)\n",
    "            expected_labels.extend(y)\n",
    "            \n",
    "    return expected_labels, preds, imageIds"
   ]
  },
  {
   "cell_type": "markdown",
   "metadata": {},
   "source": [
    "# Train Model"
   ]
  },
  {
   "cell_type": "code",
   "execution_count": 15,
   "metadata": {},
   "outputs": [
    {
     "name": "stdout",
     "output_type": "stream",
     "text": [
      "Using device: cuda:0\n"
     ]
    }
   ],
   "source": [
    "device = torch.device(\"cuda:0\" if torch.cuda.is_available() else \"cpu\")\n",
    "\n",
    "print(f\"Using device: {device}\")"
   ]
  },
  {
   "cell_type": "code",
   "execution_count": 16,
   "metadata": {},
   "outputs": [
    {
     "name": "stdout",
     "output_type": "stream",
     "text": [
      "Starting FRCNN-Densenet201 training...\n",
      "Epoch[1/30]\n"
     ]
    },
    {
     "name": "stderr",
     "output_type": "stream",
     "text": [
      "100%|██████████| 61/61 [01:57<00:00,  1.93s/it]\n"
     ]
    },
    {
     "name": "stdout",
     "output_type": "stream",
     "text": [
      "Training loss: 0.771\n"
     ]
    },
    {
     "name": "stderr",
     "output_type": "stream",
     "text": [
      "100%|██████████| 15/15 [00:27<00:00,  1.82s/it]\n"
     ]
    },
    {
     "name": "stdout",
     "output_type": "stream",
     "text": [
      "Validation mAP: 0.073585\n",
      "----------------------------------------------------------------\n",
      "Epoch[2/30]\n"
     ]
    },
    {
     "name": "stderr",
     "output_type": "stream",
     "text": [
      "100%|██████████| 61/61 [02:01<00:00,  1.99s/it]\n"
     ]
    },
    {
     "name": "stdout",
     "output_type": "stream",
     "text": [
      "Training loss: 0.524\n"
     ]
    },
    {
     "name": "stderr",
     "output_type": "stream",
     "text": [
      "100%|██████████| 15/15 [00:27<00:00,  1.83s/it]\n"
     ]
    },
    {
     "name": "stdout",
     "output_type": "stream",
     "text": [
      "Validation mAP: 0.152968\n",
      "----------------------------------------------------------------\n",
      "Epoch[3/30]\n"
     ]
    },
    {
     "name": "stderr",
     "output_type": "stream",
     "text": [
      "100%|██████████| 61/61 [02:05<00:00,  2.05s/it]\n"
     ]
    },
    {
     "name": "stdout",
     "output_type": "stream",
     "text": [
      "Training loss: 0.492\n"
     ]
    },
    {
     "name": "stderr",
     "output_type": "stream",
     "text": [
      "100%|██████████| 15/15 [00:27<00:00,  1.82s/it]\n"
     ]
    },
    {
     "name": "stdout",
     "output_type": "stream",
     "text": [
      "Validation mAP: 0.123229\n",
      "----------------------------------------------------------------\n",
      "Epoch[4/30]\n"
     ]
    },
    {
     "name": "stderr",
     "output_type": "stream",
     "text": [
      "100%|██████████| 61/61 [02:05<00:00,  2.05s/it]\n"
     ]
    },
    {
     "name": "stdout",
     "output_type": "stream",
     "text": [
      "Training loss: 0.448\n"
     ]
    },
    {
     "name": "stderr",
     "output_type": "stream",
     "text": [
      "100%|██████████| 15/15 [00:27<00:00,  1.85s/it]\n"
     ]
    },
    {
     "name": "stdout",
     "output_type": "stream",
     "text": [
      "Validation mAP: 0.176694\n",
      "----------------------------------------------------------------\n",
      "Epoch[5/30]\n"
     ]
    },
    {
     "name": "stderr",
     "output_type": "stream",
     "text": [
      "100%|██████████| 61/61 [02:06<00:00,  2.07s/it]\n"
     ]
    },
    {
     "name": "stdout",
     "output_type": "stream",
     "text": [
      "Training loss: 0.418\n"
     ]
    },
    {
     "name": "stderr",
     "output_type": "stream",
     "text": [
      "100%|██████████| 15/15 [00:27<00:00,  1.80s/it]\n"
     ]
    },
    {
     "name": "stdout",
     "output_type": "stream",
     "text": [
      "Validation mAP: 0.219161\n",
      "----------------------------------------------------------------\n",
      "Epoch[6/30]\n"
     ]
    },
    {
     "name": "stderr",
     "output_type": "stream",
     "text": [
      "100%|██████████| 61/61 [02:04<00:00,  2.04s/it]\n"
     ]
    },
    {
     "name": "stdout",
     "output_type": "stream",
     "text": [
      "Training loss: 0.421\n"
     ]
    },
    {
     "name": "stderr",
     "output_type": "stream",
     "text": [
      "100%|██████████| 15/15 [00:31<00:00,  2.10s/it]\n"
     ]
    },
    {
     "name": "stdout",
     "output_type": "stream",
     "text": [
      "Validation mAP: 0.163344\n",
      "----------------------------------------------------------------\n",
      "Epoch[7/30]\n"
     ]
    },
    {
     "name": "stderr",
     "output_type": "stream",
     "text": [
      "100%|██████████| 61/61 [01:59<00:00,  1.95s/it]\n"
     ]
    },
    {
     "name": "stdout",
     "output_type": "stream",
     "text": [
      "Training loss: 0.408\n"
     ]
    },
    {
     "name": "stderr",
     "output_type": "stream",
     "text": [
      "100%|██████████| 15/15 [00:30<00:00,  2.03s/it]\n"
     ]
    },
    {
     "name": "stdout",
     "output_type": "stream",
     "text": [
      "Validation mAP: 0.301322\n",
      "----------------------------------------------------------------\n",
      "Epoch[8/30]\n"
     ]
    },
    {
     "name": "stderr",
     "output_type": "stream",
     "text": [
      "100%|██████████| 61/61 [02:03<00:00,  2.02s/it]\n"
     ]
    },
    {
     "name": "stdout",
     "output_type": "stream",
     "text": [
      "Training loss: 0.377\n"
     ]
    },
    {
     "name": "stderr",
     "output_type": "stream",
     "text": [
      "100%|██████████| 15/15 [00:29<00:00,  1.95s/it]\n"
     ]
    },
    {
     "name": "stdout",
     "output_type": "stream",
     "text": [
      "Validation mAP: 0.310817\n",
      "----------------------------------------------------------------\n",
      "Epoch[9/30]\n"
     ]
    },
    {
     "name": "stderr",
     "output_type": "stream",
     "text": [
      "100%|██████████| 61/61 [02:04<00:00,  2.05s/it]\n"
     ]
    },
    {
     "name": "stdout",
     "output_type": "stream",
     "text": [
      "Training loss: 0.366\n"
     ]
    },
    {
     "name": "stderr",
     "output_type": "stream",
     "text": [
      "100%|██████████| 15/15 [00:28<00:00,  1.89s/it]\n"
     ]
    },
    {
     "name": "stdout",
     "output_type": "stream",
     "text": [
      "Validation mAP: 0.239102\n",
      "----------------------------------------------------------------\n",
      "Epoch[10/30]\n"
     ]
    },
    {
     "name": "stderr",
     "output_type": "stream",
     "text": [
      "100%|██████████| 61/61 [02:04<00:00,  2.04s/it]\n"
     ]
    },
    {
     "name": "stdout",
     "output_type": "stream",
     "text": [
      "Training loss: 0.368\n"
     ]
    },
    {
     "name": "stderr",
     "output_type": "stream",
     "text": [
      "100%|██████████| 15/15 [00:26<00:00,  1.79s/it]\n"
     ]
    },
    {
     "name": "stdout",
     "output_type": "stream",
     "text": [
      "Validation mAP: 0.311754\n",
      "----------------------------------------------------------------\n",
      "Epoch[11/30]\n"
     ]
    },
    {
     "name": "stderr",
     "output_type": "stream",
     "text": [
      "100%|██████████| 61/61 [02:02<00:00,  2.01s/it]\n"
     ]
    },
    {
     "name": "stdout",
     "output_type": "stream",
     "text": [
      "Training loss: 0.355\n"
     ]
    },
    {
     "name": "stderr",
     "output_type": "stream",
     "text": [
      "100%|██████████| 15/15 [00:32<00:00,  2.14s/it]\n"
     ]
    },
    {
     "name": "stdout",
     "output_type": "stream",
     "text": [
      "Validation mAP: 0.320721\n",
      "----------------------------------------------------------------\n",
      "Epoch[12/30]\n"
     ]
    },
    {
     "name": "stderr",
     "output_type": "stream",
     "text": [
      "100%|██████████| 61/61 [02:05<00:00,  2.06s/it]\n"
     ]
    },
    {
     "name": "stdout",
     "output_type": "stream",
     "text": [
      "Training loss: 0.341\n"
     ]
    },
    {
     "name": "stderr",
     "output_type": "stream",
     "text": [
      "100%|██████████| 15/15 [00:32<00:00,  2.20s/it]\n"
     ]
    },
    {
     "name": "stdout",
     "output_type": "stream",
     "text": [
      "Validation mAP: 0.287631\n",
      "----------------------------------------------------------------\n",
      "Epoch[13/30]\n"
     ]
    },
    {
     "name": "stderr",
     "output_type": "stream",
     "text": [
      "100%|██████████| 61/61 [02:10<00:00,  2.13s/it]\n"
     ]
    },
    {
     "name": "stdout",
     "output_type": "stream",
     "text": [
      "Training loss: 0.368\n"
     ]
    },
    {
     "name": "stderr",
     "output_type": "stream",
     "text": [
      "100%|██████████| 15/15 [00:30<00:00,  2.06s/it]\n"
     ]
    },
    {
     "name": "stdout",
     "output_type": "stream",
     "text": [
      "Validation mAP: 0.325263\n",
      "----------------------------------------------------------------\n",
      "Epoch[14/30]\n"
     ]
    },
    {
     "name": "stderr",
     "output_type": "stream",
     "text": [
      "100%|██████████| 61/61 [02:04<00:00,  2.04s/it]\n"
     ]
    },
    {
     "name": "stdout",
     "output_type": "stream",
     "text": [
      "Training loss: 0.340\n"
     ]
    },
    {
     "name": "stderr",
     "output_type": "stream",
     "text": [
      "100%|██████████| 15/15 [00:30<00:00,  2.03s/it]\n"
     ]
    },
    {
     "name": "stdout",
     "output_type": "stream",
     "text": [
      "Validation mAP: 0.331938\n",
      "----------------------------------------------------------------\n",
      "Epoch[15/30]\n"
     ]
    },
    {
     "name": "stderr",
     "output_type": "stream",
     "text": [
      "100%|██████████| 61/61 [02:06<00:00,  2.07s/it]\n"
     ]
    },
    {
     "name": "stdout",
     "output_type": "stream",
     "text": [
      "Training loss: 0.337\n"
     ]
    },
    {
     "name": "stderr",
     "output_type": "stream",
     "text": [
      "100%|██████████| 15/15 [00:33<00:00,  2.20s/it]\n"
     ]
    },
    {
     "name": "stdout",
     "output_type": "stream",
     "text": [
      "Validation mAP: 0.358145\n",
      "----------------------------------------------------------------\n",
      "Epoch[16/30]\n"
     ]
    },
    {
     "name": "stderr",
     "output_type": "stream",
     "text": [
      "100%|██████████| 61/61 [01:59<00:00,  1.96s/it]\n"
     ]
    },
    {
     "name": "stdout",
     "output_type": "stream",
     "text": [
      "Training loss: 0.336\n"
     ]
    },
    {
     "name": "stderr",
     "output_type": "stream",
     "text": [
      "100%|██████████| 15/15 [00:31<00:00,  2.07s/it]\n"
     ]
    },
    {
     "name": "stdout",
     "output_type": "stream",
     "text": [
      "Validation mAP: 0.364118\n",
      "----------------------------------------------------------------\n",
      "Epoch[17/30]\n"
     ]
    },
    {
     "name": "stderr",
     "output_type": "stream",
     "text": [
      "100%|██████████| 61/61 [02:03<00:00,  2.03s/it]\n"
     ]
    },
    {
     "name": "stdout",
     "output_type": "stream",
     "text": [
      "Training loss: 0.332\n"
     ]
    },
    {
     "name": "stderr",
     "output_type": "stream",
     "text": [
      "100%|██████████| 15/15 [00:27<00:00,  1.85s/it]\n"
     ]
    },
    {
     "name": "stdout",
     "output_type": "stream",
     "text": [
      "Validation mAP: 0.377187\n",
      "----------------------------------------------------------------\n",
      "Epoch[18/30]\n"
     ]
    },
    {
     "name": "stderr",
     "output_type": "stream",
     "text": [
      "100%|██████████| 61/61 [02:06<00:00,  2.07s/it]\n"
     ]
    },
    {
     "name": "stdout",
     "output_type": "stream",
     "text": [
      "Training loss: 0.333\n"
     ]
    },
    {
     "name": "stderr",
     "output_type": "stream",
     "text": [
      "100%|██████████| 15/15 [00:30<00:00,  2.00s/it]\n"
     ]
    },
    {
     "name": "stdout",
     "output_type": "stream",
     "text": [
      "Validation mAP: 0.379328\n",
      "----------------------------------------------------------------\n",
      "Epoch[19/30]\n"
     ]
    },
    {
     "name": "stderr",
     "output_type": "stream",
     "text": [
      "100%|██████████| 61/61 [02:03<00:00,  2.02s/it]\n"
     ]
    },
    {
     "name": "stdout",
     "output_type": "stream",
     "text": [
      "Training loss: 0.305\n"
     ]
    },
    {
     "name": "stderr",
     "output_type": "stream",
     "text": [
      "100%|██████████| 15/15 [00:31<00:00,  2.12s/it]\n"
     ]
    },
    {
     "name": "stdout",
     "output_type": "stream",
     "text": [
      "Validation mAP: 0.395337\n",
      "----------------------------------------------------------------\n",
      "Epoch[20/30]\n"
     ]
    },
    {
     "name": "stderr",
     "output_type": "stream",
     "text": [
      "100%|██████████| 61/61 [02:02<00:00,  2.01s/it]\n"
     ]
    },
    {
     "name": "stdout",
     "output_type": "stream",
     "text": [
      "Training loss: 0.316\n"
     ]
    },
    {
     "name": "stderr",
     "output_type": "stream",
     "text": [
      "100%|██████████| 15/15 [00:31<00:00,  2.09s/it]\n"
     ]
    },
    {
     "name": "stdout",
     "output_type": "stream",
     "text": [
      "Validation mAP: 0.429853\n",
      "----------------------------------------------------------------\n",
      "Epoch[21/30]\n"
     ]
    },
    {
     "name": "stderr",
     "output_type": "stream",
     "text": [
      "100%|██████████| 61/61 [02:03<00:00,  2.03s/it]\n"
     ]
    },
    {
     "name": "stdout",
     "output_type": "stream",
     "text": [
      "Training loss: 0.304\n"
     ]
    },
    {
     "name": "stderr",
     "output_type": "stream",
     "text": [
      "100%|██████████| 15/15 [00:25<00:00,  1.73s/it]\n"
     ]
    },
    {
     "name": "stdout",
     "output_type": "stream",
     "text": [
      "Validation mAP: 0.417166\n",
      "----------------------------------------------------------------\n",
      "Epoch[22/30]\n"
     ]
    },
    {
     "name": "stderr",
     "output_type": "stream",
     "text": [
      "100%|██████████| 61/61 [02:04<00:00,  2.05s/it]\n"
     ]
    },
    {
     "name": "stdout",
     "output_type": "stream",
     "text": [
      "Training loss: 0.308\n"
     ]
    },
    {
     "name": "stderr",
     "output_type": "stream",
     "text": [
      "100%|██████████| 15/15 [00:26<00:00,  1.75s/it]\n"
     ]
    },
    {
     "name": "stdout",
     "output_type": "stream",
     "text": [
      "Validation mAP: 0.414368\n",
      "----------------------------------------------------------------\n",
      "Epoch[23/30]\n"
     ]
    },
    {
     "name": "stderr",
     "output_type": "stream",
     "text": [
      "100%|██████████| 61/61 [02:05<00:00,  2.06s/it]\n"
     ]
    },
    {
     "name": "stdout",
     "output_type": "stream",
     "text": [
      "Training loss: 0.305\n"
     ]
    },
    {
     "name": "stderr",
     "output_type": "stream",
     "text": [
      "100%|██████████| 15/15 [00:28<00:00,  1.89s/it]\n"
     ]
    },
    {
     "name": "stdout",
     "output_type": "stream",
     "text": [
      "Validation mAP: 0.408627\n",
      "----------------------------------------------------------------\n",
      "Epoch[24/30]\n"
     ]
    },
    {
     "name": "stderr",
     "output_type": "stream",
     "text": [
      "100%|██████████| 61/61 [02:04<00:00,  2.04s/it]\n"
     ]
    },
    {
     "name": "stdout",
     "output_type": "stream",
     "text": [
      "Training loss: 0.292\n"
     ]
    },
    {
     "name": "stderr",
     "output_type": "stream",
     "text": [
      "100%|██████████| 15/15 [00:29<00:00,  1.99s/it]\n"
     ]
    },
    {
     "name": "stdout",
     "output_type": "stream",
     "text": [
      "Validation mAP: 0.388079\n",
      "----------------------------------------------------------------\n",
      "Epoch[25/30]\n"
     ]
    },
    {
     "name": "stderr",
     "output_type": "stream",
     "text": [
      "100%|██████████| 61/61 [02:02<00:00,  2.01s/it]\n"
     ]
    },
    {
     "name": "stdout",
     "output_type": "stream",
     "text": [
      "Training loss: 0.306\n"
     ]
    },
    {
     "name": "stderr",
     "output_type": "stream",
     "text": [
      "100%|██████████| 15/15 [00:30<00:00,  2.04s/it]\n"
     ]
    },
    {
     "name": "stdout",
     "output_type": "stream",
     "text": [
      "Validation mAP: 0.375912\n",
      "----------------------------------------------------------------\n",
      "Epoch[26/30]\n"
     ]
    },
    {
     "name": "stderr",
     "output_type": "stream",
     "text": [
      "100%|██████████| 61/61 [02:03<00:00,  2.02s/it]\n"
     ]
    },
    {
     "name": "stdout",
     "output_type": "stream",
     "text": [
      "Training loss: 0.297\n"
     ]
    },
    {
     "name": "stderr",
     "output_type": "stream",
     "text": [
      "100%|██████████| 15/15 [00:27<00:00,  1.83s/it]\n"
     ]
    },
    {
     "name": "stdout",
     "output_type": "stream",
     "text": [
      "Validation mAP: 0.407362\n",
      "----------------------------------------------------------------\n",
      "Epoch[27/30]\n"
     ]
    },
    {
     "name": "stderr",
     "output_type": "stream",
     "text": [
      "100%|██████████| 61/61 [02:04<00:00,  2.05s/it]\n"
     ]
    },
    {
     "name": "stdout",
     "output_type": "stream",
     "text": [
      "Training loss: 0.297\n"
     ]
    },
    {
     "name": "stderr",
     "output_type": "stream",
     "text": [
      "100%|██████████| 15/15 [00:24<00:00,  1.65s/it]\n"
     ]
    },
    {
     "name": "stdout",
     "output_type": "stream",
     "text": [
      "Validation mAP: 0.397384\n",
      "----------------------------------------------------------------\n",
      "Epoch[28/30]\n"
     ]
    },
    {
     "name": "stderr",
     "output_type": "stream",
     "text": [
      "100%|██████████| 61/61 [02:04<00:00,  2.04s/it]\n"
     ]
    },
    {
     "name": "stdout",
     "output_type": "stream",
     "text": [
      "Training loss: 0.286\n"
     ]
    },
    {
     "name": "stderr",
     "output_type": "stream",
     "text": [
      "100%|██████████| 15/15 [00:28<00:00,  1.87s/it]\n"
     ]
    },
    {
     "name": "stdout",
     "output_type": "stream",
     "text": [
      "Validation mAP: 0.404040\n",
      "----------------------------------------------------------------\n",
      "Epoch[29/30]\n"
     ]
    },
    {
     "name": "stderr",
     "output_type": "stream",
     "text": [
      "100%|██████████| 61/61 [02:06<00:00,  2.07s/it]\n"
     ]
    },
    {
     "name": "stdout",
     "output_type": "stream",
     "text": [
      "Training loss: 0.293\n"
     ]
    },
    {
     "name": "stderr",
     "output_type": "stream",
     "text": [
      "100%|██████████| 15/15 [00:27<00:00,  1.85s/it]\n"
     ]
    },
    {
     "name": "stdout",
     "output_type": "stream",
     "text": [
      "Validation mAP: 0.380355\n",
      "----------------------------------------------------------------\n",
      "Epoch[30/30]\n"
     ]
    },
    {
     "name": "stderr",
     "output_type": "stream",
     "text": [
      "100%|██████████| 61/61 [02:05<00:00,  2.05s/it]\n"
     ]
    },
    {
     "name": "stdout",
     "output_type": "stream",
     "text": [
      "Training loss: 0.304\n"
     ]
    },
    {
     "name": "stderr",
     "output_type": "stream",
     "text": [
      "100%|██████████| 15/15 [00:32<00:00,  2.18s/it]\n"
     ]
    },
    {
     "name": "stdout",
     "output_type": "stream",
     "text": [
      "Validation mAP: 0.432797\n",
      "----------------------------------------------------------------\n",
      "\n",
      "Finished training...\n",
      "Best epoch: 30\t Validation mAP on best epoch: 0.432797372341156\n"
     ]
    }
   ],
   "source": [
    "NUM_EPOCHS = 30\n",
    "\n",
    "model.to(device)\n",
    "model.backbone.body.requires_grad_(False) # Freeze feature layer\n",
    "\n",
    "train_loss_history = []\n",
    "val_map_history = []\n",
    "\n",
    "best_map = 0\n",
    "best_epoch = -1\n",
    "\n",
    "print(f\"Starting {MODEL_NAME} training...\")\n",
    "\n",
    "for epoch in range(1, NUM_EPOCHS + 1):\n",
    "    print(f\"Epoch[{epoch}/{NUM_EPOCHS}]\")\n",
    "\n",
    "    train_loss = train_epoch_iter(\n",
    "        dataloader=train_dataloader,\n",
    "        model=model,\n",
    "        device=device,\n",
    "        optimizer=optimizer,\n",
    "        lr_scheduler=lr_scheduler\n",
    "    )\n",
    "\n",
    "    print(f\"Training loss: {train_loss:.3f}\")\n",
    "\n",
    "    val_target, val_preds, _ = eval_epoch_iter(\n",
    "        dataloader=val_dataloader,\n",
    "        model=model,\n",
    "        device=device\n",
    "    )\n",
    "\n",
    "    metric_scorer = get_metric_scorer()\n",
    "    \n",
    "    metric_scorer.update(val_preds, val_target)\n",
    "    # Only present mAP for simplicity\n",
    "    val_map = metric_scorer.compute()[\"map\"].item()\n",
    "    print(f\"Validation mAP: {val_map:3f}\")\n",
    "\n",
    "    # Save best model\n",
    "    if val_map > best_map:\n",
    "        best_map = val_map\n",
    "        best_epoch = epoch\n",
    "        save_dict = {\"model\": model.state_dict(), \"optimizer\": optimizer.state_dict(), \"lr_scheduler\": lr_scheduler.state_dict(), \"epoch\": epoch}\n",
    "        torch.save(save_dict, f\"{OUT_DIR}/{MODEL_NAME}_best_model.pth\")\n",
    "\n",
    "    # Save latest model\n",
    "    save_dict = {\"model\": model.state_dict(), \"optimizer\": optimizer.state_dict(), \"lr_scheduler\": lr_scheduler.state_dict(), \"epoch\": epoch}\n",
    "    torch.save(save_dict, f\"{OUT_DIR}/{MODEL_NAME}_latest_model.pth\")\n",
    "\n",
    "    # Save loss and mAP in history\n",
    "    train_loss_history.append(train_loss)\n",
    "\n",
    "    val_map_history.append(val_map)\n",
    "\n",
    "    print(\"----------------------------------------------------------------\")\n",
    "\n",
    "print(\n",
    "    f\"\\nFinished training...\"\n",
    "    f\"\\nBest epoch: {best_epoch}\\t Validation mAP on best epoch: {best_map}\"\n",
    ")\n"
   ]
  },
  {
   "cell_type": "code",
   "execution_count": 17,
   "metadata": {},
   "outputs": [
    {
     "name": "stderr",
     "output_type": "stream",
     "text": [
      "C:\\Users\\telmo\\AppData\\Local\\Temp/ipykernel_17812/1977341019.py:2: UserWarning: Matplotlib is currently using module://matplotlib_inline.backend_inline, which is a non-GUI backend, so cannot show the figure.\n",
      "  fig.show()\n"
     ]
    },
    {
     "data": {
      "image/png": "[encoded data removed]",
      "text/plain": [
       "<Figure size 864x576 with 2 Axes>"
      ]
     },
     "metadata": {
      "needs_background": "light"
     },
     "output_type": "display_data"
    }
   ],
   "source": [
    "fig = plot_training_history(train_history=train_loss_history, val_history=val_map_history, model_name=MODEL_NAME, phase_name=\"Base Training\", out_dir=OUT_DIR)\n",
    "fig.show()"
   ]
  },
  {
   "cell_type": "code",
   "execution_count": 16,
   "metadata": {},
   "outputs": [
    {
     "data": {
      "text/plain": [
       "(3543112091, 4294836224)"
      ]
     },
     "execution_count": 16,
     "metadata": {},
     "output_type": "execute_result"
    }
   ],
   "source": [
    "import gc\n",
    "model = None\n",
    "\n",
    "gc.collect()\n",
    "torch.cuda.empty_cache()\n",
    "torch.cuda.mem_get_info(device)"
   ]
  },
  {
   "cell_type": "code",
   "execution_count": 17,
   "metadata": {},
   "outputs": [
    {
     "name": "stdout",
     "output_type": "stream",
     "text": [
      "Sun Jun 12 08:45:43 2022       \n",
      "+-----------------------------------------------------------------------------+\n",
      "| NVIDIA-SMI 512.95       Driver Version: 512.95       CUDA Version: 11.6     |\n",
      "|-------------------------------+----------------------+----------------------+\n",
      "| GPU  Name            TCC/WDDM | Bus-Id        Disp.A | Volatile Uncorr. ECC |\n",
      "| Fan  Temp  Perf  Pwr:Usage/Cap|         Memory-Usage | GPU-Util  Compute M. |\n",
      "|                               |                      |               MIG M. |\n",
      "|===============================+======================+======================|\n",
      "|   0  NVIDIA GeForce ... WDDM  | 00000000:01:00.0 Off |                  N/A |\n",
      "| N/A   58C    P0    N/A /  N/A |     39MiB /  4096MiB |      1%      Default |\n",
      "|                               |                      |                  N/A |\n",
      "+-------------------------------+----------------------+----------------------+\n",
      "                                                                               \n",
      "+-----------------------------------------------------------------------------+\n",
      "| Processes:                                                                  |\n",
      "|  GPU   GI   CI        PID   Type   Process name                  GPU Memory |\n",
      "|        ID   ID                                                   Usage      |\n",
      "|=============================================================================|\n",
      "|    0   N/A  N/A      2532      C   ...ython\\Python38\\python.exe    N/A      |\n",
      "+-----------------------------------------------------------------------------+\n"
     ]
    }
   ],
   "source": [
    "!nvidia-smi"
   ]
  },
  {
   "cell_type": "markdown",
   "metadata": {},
   "source": [
    "# Fine-tune the predictor"
   ]
  },
  {
   "cell_type": "code",
   "execution_count": 18,
   "metadata": {},
   "outputs": [
    {
     "name": "stdout",
     "output_type": "stream",
     "text": [
      "Loaded best model...\n"
     ]
    }
   ],
   "source": [
    "best_checkpoint = torch.load(f\"{OUT_DIR}/{MODEL_NAME}_best_model.pth\")\n",
    "model = get_model(n_classes=N_CLASSES)\n",
    "model.load_state_dict(best_checkpoint[\"model\"])\n",
    "best_checkpoint = None\n",
    "\n",
    "model.to(device)\n",
    "\n",
    "\n",
    "print(\"Loaded best model...\")"
   ]
  },
  {
   "cell_type": "code",
   "execution_count": 19,
   "metadata": {},
   "outputs": [],
   "source": [
    "ft_optimizer = optim.Adam(\n",
    "    params=model.parameters(),\n",
    "    lr=1e-4,\n",
    "    betas=(0.9, 0.999),\n",
    "    weight_decay=5e-4,\n",
    "    amsgrad=True\n",
    ")\n",
    "\n",
    "ft_lr_scheduler = optim.lr_scheduler.ExponentialLR(\n",
    "    optimizer=ft_optimizer,\n",
    "    gamma=0.9\n",
    ")"
   ]
  },
  {
   "cell_type": "code",
   "execution_count": 22,
   "metadata": {},
   "outputs": [
    {
     "name": "stdout",
     "output_type": "stream",
     "text": [
      "Starting FRCNN-Densenet201 fine-tuning...\n",
      "Epoch[1/15]\n"
     ]
    },
    {
     "name": "stderr",
     "output_type": "stream",
     "text": [
      "100%|██████████| 61/61 [01:48<00:00,  1.78s/it]\n"
     ]
    },
    {
     "name": "stdout",
     "output_type": "stream",
     "text": [
      "Training loss: 0.300\n"
     ]
    },
    {
     "name": "stderr",
     "output_type": "stream",
     "text": [
      "100%|██████████| 15/15 [00:28<00:00,  1.91s/it]\n"
     ]
    },
    {
     "name": "stdout",
     "output_type": "stream",
     "text": [
      "Validation mAP: 0.441740\n",
      "----------------------------------------------------------------\n",
      "Epoch[2/15]\n"
     ]
    },
    {
     "name": "stderr",
     "output_type": "stream",
     "text": [
      "100%|██████████| 61/61 [01:46<00:00,  1.74s/it]\n"
     ]
    },
    {
     "name": "stdout",
     "output_type": "stream",
     "text": [
      "Training loss: 0.296\n"
     ]
    },
    {
     "name": "stderr",
     "output_type": "stream",
     "text": [
      "100%|██████████| 15/15 [00:28<00:00,  1.89s/it]\n"
     ]
    },
    {
     "name": "stdout",
     "output_type": "stream",
     "text": [
      "Validation mAP: 0.420268\n",
      "----------------------------------------------------------------\n",
      "Epoch[3/15]\n"
     ]
    },
    {
     "name": "stderr",
     "output_type": "stream",
     "text": [
      "100%|██████████| 61/61 [01:54<00:00,  1.88s/it]\n"
     ]
    },
    {
     "name": "stdout",
     "output_type": "stream",
     "text": [
      "Training loss: 0.318\n"
     ]
    },
    {
     "name": "stderr",
     "output_type": "stream",
     "text": [
      "100%|██████████| 15/15 [00:26<00:00,  1.78s/it]\n"
     ]
    },
    {
     "name": "stdout",
     "output_type": "stream",
     "text": [
      "Validation mAP: 0.433914\n",
      "----------------------------------------------------------------\n",
      "Epoch[4/15]\n"
     ]
    },
    {
     "name": "stderr",
     "output_type": "stream",
     "text": [
      "100%|██████████| 61/61 [01:49<00:00,  1.79s/it]\n"
     ]
    },
    {
     "name": "stdout",
     "output_type": "stream",
     "text": [
      "Training loss: 0.284\n"
     ]
    },
    {
     "name": "stderr",
     "output_type": "stream",
     "text": [
      "100%|██████████| 15/15 [00:31<00:00,  2.10s/it]\n"
     ]
    },
    {
     "name": "stdout",
     "output_type": "stream",
     "text": [
      "Validation mAP: 0.410831\n",
      "----------------------------------------------------------------\n",
      "Epoch[5/15]\n"
     ]
    },
    {
     "name": "stderr",
     "output_type": "stream",
     "text": [
      "100%|██████████| 61/61 [01:51<00:00,  1.83s/it]\n"
     ]
    },
    {
     "name": "stdout",
     "output_type": "stream",
     "text": [
      "Training loss: 0.285\n"
     ]
    },
    {
     "name": "stderr",
     "output_type": "stream",
     "text": [
      "100%|██████████| 15/15 [00:31<00:00,  2.08s/it]\n"
     ]
    },
    {
     "name": "stdout",
     "output_type": "stream",
     "text": [
      "Validation mAP: 0.393802\n",
      "----------------------------------------------------------------\n",
      "Epoch[6/15]\n"
     ]
    },
    {
     "name": "stderr",
     "output_type": "stream",
     "text": [
      "100%|██████████| 61/61 [01:46<00:00,  1.75s/it]\n"
     ]
    },
    {
     "name": "stdout",
     "output_type": "stream",
     "text": [
      "Training loss: 0.301\n"
     ]
    },
    {
     "name": "stderr",
     "output_type": "stream",
     "text": [
      "100%|██████████| 15/15 [00:28<00:00,  1.91s/it]\n"
     ]
    },
    {
     "name": "stdout",
     "output_type": "stream",
     "text": [
      "Validation mAP: 0.429176\n",
      "----------------------------------------------------------------\n",
      "Epoch[7/15]\n"
     ]
    },
    {
     "name": "stderr",
     "output_type": "stream",
     "text": [
      "100%|██████████| 61/61 [01:51<00:00,  1.83s/it]\n"
     ]
    },
    {
     "name": "stdout",
     "output_type": "stream",
     "text": [
      "Training loss: 0.288\n"
     ]
    },
    {
     "name": "stderr",
     "output_type": "stream",
     "text": [
      "100%|██████████| 15/15 [00:32<00:00,  2.13s/it]\n"
     ]
    },
    {
     "name": "stdout",
     "output_type": "stream",
     "text": [
      "Validation mAP: 0.427364\n",
      "----------------------------------------------------------------\n",
      "Epoch[8/15]\n"
     ]
    },
    {
     "name": "stderr",
     "output_type": "stream",
     "text": [
      "100%|██████████| 61/61 [01:44<00:00,  1.72s/it]\n"
     ]
    },
    {
     "name": "stdout",
     "output_type": "stream",
     "text": [
      "Training loss: 0.288\n"
     ]
    },
    {
     "name": "stderr",
     "output_type": "stream",
     "text": [
      "100%|██████████| 15/15 [00:32<00:00,  2.17s/it]\n"
     ]
    },
    {
     "name": "stdout",
     "output_type": "stream",
     "text": [
      "Validation mAP: 0.397002\n",
      "----------------------------------------------------------------\n",
      "Epoch[9/15]\n"
     ]
    },
    {
     "name": "stderr",
     "output_type": "stream",
     "text": [
      "100%|██████████| 61/61 [01:48<00:00,  1.78s/it]\n"
     ]
    },
    {
     "name": "stdout",
     "output_type": "stream",
     "text": [
      "Training loss: 0.287\n"
     ]
    },
    {
     "name": "stderr",
     "output_type": "stream",
     "text": [
      "100%|██████████| 15/15 [00:28<00:00,  1.89s/it]\n"
     ]
    },
    {
     "name": "stdout",
     "output_type": "stream",
     "text": [
      "Validation mAP: 0.419142\n",
      "----------------------------------------------------------------\n",
      "Epoch[10/15]\n"
     ]
    },
    {
     "name": "stderr",
     "output_type": "stream",
     "text": [
      "100%|██████████| 61/61 [01:53<00:00,  1.86s/it]\n"
     ]
    },
    {
     "name": "stdout",
     "output_type": "stream",
     "text": [
      "Training loss: 0.288\n"
     ]
    },
    {
     "name": "stderr",
     "output_type": "stream",
     "text": [
      "100%|██████████| 15/15 [00:27<00:00,  1.82s/it]\n"
     ]
    },
    {
     "name": "stdout",
     "output_type": "stream",
     "text": [
      "Validation mAP: 0.398973\n",
      "----------------------------------------------------------------\n",
      "Epoch[11/15]\n"
     ]
    },
    {
     "name": "stderr",
     "output_type": "stream",
     "text": [
      "100%|██████████| 61/61 [01:48<00:00,  1.77s/it]\n"
     ]
    },
    {
     "name": "stdout",
     "output_type": "stream",
     "text": [
      "Training loss: 0.283\n"
     ]
    },
    {
     "name": "stderr",
     "output_type": "stream",
     "text": [
      "100%|██████████| 15/15 [00:31<00:00,  2.13s/it]\n"
     ]
    },
    {
     "name": "stdout",
     "output_type": "stream",
     "text": [
      "Validation mAP: 0.431252\n",
      "----------------------------------------------------------------\n",
      "Epoch[12/15]\n"
     ]
    },
    {
     "name": "stderr",
     "output_type": "stream",
     "text": [
      "100%|██████████| 61/61 [01:47<00:00,  1.76s/it]\n"
     ]
    },
    {
     "name": "stdout",
     "output_type": "stream",
     "text": [
      "Training loss: 0.277\n"
     ]
    },
    {
     "name": "stderr",
     "output_type": "stream",
     "text": [
      "100%|██████████| 15/15 [00:32<00:00,  2.17s/it]\n"
     ]
    },
    {
     "name": "stdout",
     "output_type": "stream",
     "text": [
      "Validation mAP: 0.385338\n",
      "----------------------------------------------------------------\n",
      "Epoch[13/15]\n"
     ]
    },
    {
     "name": "stderr",
     "output_type": "stream",
     "text": [
      "100%|██████████| 61/61 [01:50<00:00,  1.81s/it]\n"
     ]
    },
    {
     "name": "stdout",
     "output_type": "stream",
     "text": [
      "Training loss: 0.277\n"
     ]
    },
    {
     "name": "stderr",
     "output_type": "stream",
     "text": [
      "100%|██████████| 15/15 [00:27<00:00,  1.84s/it]\n"
     ]
    },
    {
     "name": "stdout",
     "output_type": "stream",
     "text": [
      "Validation mAP: 0.409816\n",
      "----------------------------------------------------------------\n",
      "Epoch[14/15]\n"
     ]
    },
    {
     "name": "stderr",
     "output_type": "stream",
     "text": [
      "100%|██████████| 61/61 [01:46<00:00,  1.75s/it]\n"
     ]
    },
    {
     "name": "stdout",
     "output_type": "stream",
     "text": [
      "Training loss: 0.287\n"
     ]
    },
    {
     "name": "stderr",
     "output_type": "stream",
     "text": [
      "100%|██████████| 15/15 [00:32<00:00,  2.18s/it]\n"
     ]
    },
    {
     "name": "stdout",
     "output_type": "stream",
     "text": [
      "Validation mAP: 0.401076\n",
      "----------------------------------------------------------------\n",
      "Epoch[15/15]\n"
     ]
    },
    {
     "name": "stderr",
     "output_type": "stream",
     "text": [
      "100%|██████████| 61/61 [01:49<00:00,  1.79s/it]\n"
     ]
    },
    {
     "name": "stdout",
     "output_type": "stream",
     "text": [
      "Training loss: 0.293\n"
     ]
    },
    {
     "name": "stderr",
     "output_type": "stream",
     "text": [
      "100%|██████████| 15/15 [00:29<00:00,  1.95s/it]\n"
     ]
    },
    {
     "name": "stdout",
     "output_type": "stream",
     "text": [
      "Validation mAP: 0.439213\n",
      "----------------------------------------------------------------\n",
      "\n",
      "Finished training...\n",
      "Best epoch: 1\t Validation mAP on best epoch: 0.44173991680145264\n"
     ]
    }
   ],
   "source": [
    "FT_NUM_EPOCHS = 15\n",
    "model.backbone.requires_grad_(False) # Keep backbone frozen\n",
    "model.rpn.requires_grad_(True)\n",
    "model.roi_heads.requires_grad_(True)\n",
    "\n",
    "ft_train_loss_history = []\n",
    "\n",
    "ft_val_map_history = []\n",
    "\n",
    "ft_best_map = best_map\n",
    "ft_best_epoch = -1\n",
    "\n",
    "print(f\"Starting {MODEL_NAME} fine-tuning...\")\n",
    "\n",
    "for epoch in range(1, FT_NUM_EPOCHS + 1):\n",
    "    print(f\"Epoch[{epoch}/{FT_NUM_EPOCHS}]\")\n",
    "\n",
    "    train_loss = train_epoch_iter(\n",
    "        dataloader=train_dataloader,\n",
    "        model=model,\n",
    "        device=device,\n",
    "        optimizer=ft_optimizer,\n",
    "        lr_scheduler=ft_lr_scheduler\n",
    "    )\n",
    "\n",
    "    print(f\"Training loss: {train_loss:.3f}\")\n",
    "\n",
    "    val_target, val_preds, _ = eval_epoch_iter(\n",
    "        dataloader=val_dataloader,\n",
    "        model=model,\n",
    "        device=device\n",
    "    )\n",
    "\n",
    "    metric_scorer = get_metric_scorer()\n",
    "    \n",
    "    metric_scorer.update(val_preds, val_target)\n",
    "    # Only present mAP for simplicity\n",
    "    val_map = metric_scorer.compute()[\"map\"].item()\n",
    "    print(f\"Validation mAP: {val_map:3f}\")\n",
    "\n",
    "    # Save best model\n",
    "    if val_map > ft_best_map:\n",
    "        ft_best_map = val_map\n",
    "        ft_best_epoch = epoch\n",
    "        save_dict = {\"model\": model.state_dict(), \"optimizer\": optimizer.state_dict(), \"lr_scheduler\": lr_scheduler.state_dict(), \"epoch\": epoch}\n",
    "        torch.save(save_dict, f\"{OUT_DIR}/{MODEL_NAME}_ft_best_model.pth\")\n",
    "\n",
    "    # Save latest model\n",
    "    save_dict = {\"model\": model.state_dict(), \"optimizer\": optimizer.state_dict(), \"lr_scheduler\": lr_scheduler.state_dict(), \"epoch\": epoch}\n",
    "    torch.save(save_dict, f\"{OUT_DIR}/{MODEL_NAME}_ft_latest_model.pth\")\n",
    "\n",
    "    # Save loss and mAP in history\n",
    "    ft_train_loss_history.append(train_loss)\n",
    "\n",
    "    ft_val_map_history.append(val_map)\n",
    "\n",
    "    print(\"----------------------------------------------------------------\")\n",
    "\n",
    "print(\n",
    "    f\"\\nFinished training...\"\n",
    "    f\"\\nBest epoch: {ft_best_epoch}\\t Validation mAP on best epoch: {ft_best_map}\"\n",
    ")\n"
   ]
  },
  {
   "cell_type": "code",
   "execution_count": 23,
   "metadata": {},
   "outputs": [
    {
     "name": "stderr",
     "output_type": "stream",
     "text": [
      "C:\\Users\\telmo\\AppData\\Local\\Temp/ipykernel_2532/2489869928.py:2: UserWarning: Matplotlib is currently using module://matplotlib_inline.backend_inline, which is a non-GUI backend, so cannot show the figure.\n",
      "  fig.show()\n"
     ]
    },
    {
     "data": {
      "image/png": "[encoded data removed]",
      "text/plain": [
       "<Figure size 864x576 with 2 Axes>"
      ]
     },
     "metadata": {
      "needs_background": "light"
     },
     "output_type": "display_data"
    }
   ],
   "source": [
    "fig = plot_training_history(train_history=ft_train_loss_history, val_history=ft_val_map_history, model_name=MODEL_NAME, phase_name=\"FINE-TUNE\", out_dir=OUT_DIR)\n",
    "fig.show()"
   ]
  },
  {
   "cell_type": "code",
   "execution_count": 24,
   "metadata": {},
   "outputs": [
    {
     "data": {
      "text/plain": [
       "(2468518299, 4294836224)"
      ]
     },
     "execution_count": 24,
     "metadata": {},
     "output_type": "execute_result"
    }
   ],
   "source": [
    "import gc\n",
    "model = None\n",
    "\n",
    "gc.collect()\n",
    "torch.cuda.empty_cache()\n",
    "torch.cuda.mem_get_info(device)"
   ]
  },
  {
   "cell_type": "code",
   "execution_count": 25,
   "metadata": {},
   "outputs": [
    {
     "name": "stdout",
     "output_type": "stream",
     "text": [
      "Sun Jun 12 09:37:05 2022       \n",
      "+-----------------------------------------------------------------------------+\n",
      "| NVIDIA-SMI 512.95       Driver Version: 512.95       CUDA Version: 11.6     |\n",
      "|-------------------------------+----------------------+----------------------+\n",
      "| GPU  Name            TCC/WDDM | Bus-Id        Disp.A | Volatile Uncorr. ECC |\n",
      "| Fan  Temp  Perf  Pwr:Usage/Cap|         Memory-Usage | GPU-Util  Compute M. |\n",
      "|                               |                      |               MIG M. |\n",
      "|===============================+======================+======================|\n",
      "|   0  NVIDIA GeForce ... WDDM  | 00000000:01:00.0 Off |                  N/A |\n",
      "| N/A   42C    P8    N/A /  N/A |   1064MiB /  4096MiB |      1%      Default |\n",
      "|                               |                      |                  N/A |\n",
      "+-------------------------------+----------------------+----------------------+\n",
      "                                                                               \n",
      "+-----------------------------------------------------------------------------+\n",
      "| Processes:                                                                  |\n",
      "|  GPU   GI   CI        PID   Type   Process name                  GPU Memory |\n",
      "|        ID   ID                                                   Usage      |\n",
      "|=============================================================================|\n",
      "|    0   N/A  N/A      2532      C   ...ython\\Python38\\python.exe    N/A      |\n",
      "+-----------------------------------------------------------------------------+\n"
     ]
    }
   ],
   "source": [
    "!nvidia-smi"
   ]
  },
  {
   "cell_type": "markdown",
   "metadata": {},
   "source": [
    "# Test Model"
   ]
  },
  {
   "cell_type": "code",
   "execution_count": 131,
   "metadata": {},
   "outputs": [],
   "source": [
    "# Apply NMS on outputs\n",
    "from torchvision.ops import batched_nms\n",
    "CONFIDENCE_TH = 0.5\n",
    "NMS_IOU_TH = 0.30\n",
    "NMS_IOS_TH = 0.7\n",
    "\n",
    "def nms_ios(boxes, labels): # Assume they're sorted already in descending scores\n",
    "    indices = []\n",
    "    for i in range(len(boxes) - 1, -1, -1):\n",
    "        box_lower = boxes[i]\n",
    "        x0i, y0i, x1i, y1i = box_lower[0].item(), box_lower[1].item(), box_lower[2].item(), box_lower[3].item()\n",
    "        area_lower = abs(x1i-x0i) * abs(y1i-y0i)\n",
    "        label_lower = labels[i]\n",
    "\n",
    "        return_box = True\n",
    "\n",
    "        for j in range(0, i):\n",
    "            label_higher = labels[j]\n",
    "            if label_lower != label_higher: # Ignore boxes that aren't from same class\n",
    "                continue\n",
    "\n",
    "            box_higher = boxes[j]\n",
    "            x0j, y0j, x1j, y1j = box_higher[0].item(), box_higher[1].item(), box_higher[2].item(), box_higher[3].item()\n",
    "\n",
    "            # Calculate intersection area\n",
    "            xx0 = max(x0i, x0j)\n",
    "            yy0 = max(y0i, y0j)\n",
    "            xx1 = min(x1i, x1j)\n",
    "            yy1 = min(y1i, y1j)\n",
    "            w = max(0, xx1 - xx0)\n",
    "            h = max(0, yy1 - yy0)\n",
    "            intersection_area = w * h\n",
    "\n",
    "            # Calculate intersection over Self (overlap percentage)\n",
    "            IoS = intersection_area / area_lower\n",
    "\n",
    "            if IoS > NMS_IOS_TH:\n",
    "                return_box = False\n",
    "                break\n",
    "        \n",
    "        if return_box:\n",
    "            indices.append(i)\n",
    "\n",
    "    return torch.tensor(list(reversed(indices))).to(boxes.get_device())\n",
    "\n",
    "def test_epoch_iter(dataloader, model, device):\n",
    "    model.eval()\n",
    "\n",
    "    preds = []\n",
    "    expected_labels = []\n",
    "    imageIds = []\n",
    "\n",
    "    with torch.set_grad_enabled(False):\n",
    "        for _batch, (X, y) in enumerate(tqdm(dataloader)):\n",
    "            X = list(x.to(device) for x in X)\n",
    "\n",
    "            with torch.cuda.amp.autocast():\n",
    "                outputs = model(X)\n",
    "\n",
    "            for annotation in y:\n",
    "                imageIds.append(annotation.pop(\"imageId\").item())\n",
    "                annotation.pop(\"areas\")\n",
    "\n",
    "            # Apply NMS & Confidence thresholds\n",
    "            nms_conf_outputs = []\n",
    "            for output in outputs:\n",
    "                indices = batched_nms(boxes=output[\"boxes\"], scores=output[\"scores\"], idxs=output[\"labels\"], iou_threshold=NMS_IOU_TH)\n",
    "                nms_scores = torch.index_select(input=output[\"scores\"], dim=0, index=indices)\n",
    "                nms_boxes = torch.index_select(input=output[\"boxes\"], dim=0, index=indices)\n",
    "                nms_labels = torch.index_select(input=output[\"labels\"], dim=0, index=indices)\n",
    "\n",
    "                indices = nms_ios(boxes=nms_boxes, labels=nms_labels).to(device)\n",
    "                nms_scores = torch.index_select(input=nms_scores, dim=0, index=indices)\n",
    "                nms_boxes = torch.index_select(input=nms_boxes, dim=0, index=indices)\n",
    "                nms_labels = torch.index_select(input=nms_labels, dim=0, index=indices)\n",
    "\n",
    "                confidence_indices = (nms_scores > CONFIDENCE_TH).nonzero(as_tuple=True)[0]\n",
    "\n",
    "                nms_conf_outputs.append({\n",
    "                    \"boxes\": torch.index_select(input=nms_boxes, dim=0, index=confidence_indices),\n",
    "                    \"scores\": torch.index_select(input=nms_scores, dim=0, index=confidence_indices),\n",
    "                    \"labels\": torch.index_select(input=nms_labels, dim=0, index=confidence_indices)\n",
    "                })\n",
    "\n",
    "            # Put everything in CPU for safety\n",
    "            nms_conf_outputs = [ {k: v.detach().cpu() for k, v in o.items()} for o in nms_conf_outputs ]\n",
    "            y = [ {k: v.detach().cpu() for k, v in annotation.items()} for annotation in y]\n",
    "\n",
    "            preds.extend(nms_conf_outputs)\n",
    "            expected_labels.extend(y)\n",
    "            \n",
    "    return expected_labels, preds, imageIds"
   ]
  },
  {
   "cell_type": "code",
   "execution_count": 78,
   "metadata": {},
   "outputs": [
    {
     "name": "stdout",
     "output_type": "stream",
     "text": [
      "Loaded best fine-tuned model...\n"
     ]
    }
   ],
   "source": [
    "best_checkpoint = torch.load(f\"{OUT_DIR}/{MODEL_NAME}_ft_best_model.pth\")\n",
    "model = get_model(n_classes=N_CLASSES)\n",
    "model.load_state_dict(best_checkpoint[\"model\"])\n",
    "best_checkpoint = None\n",
    "\n",
    "model.to(device)\n",
    "\n",
    "\n",
    "print(\"Loaded best fine-tuned model...\")"
   ]
  },
  {
   "cell_type": "code",
   "execution_count": 132,
   "metadata": {},
   "outputs": [
    {
     "name": "stderr",
     "output_type": "stream",
     "text": [
      "100%|██████████| 264/264 [01:31<00:00,  2.90it/s]\n"
     ]
    }
   ],
   "source": [
    "test_target, test_preds, test_ids = test_epoch_iter(\n",
    "    dataloader=test_dataloader,\n",
    "    model=model,\n",
    "    device=device,\n",
    ")"
   ]
  },
  {
   "cell_type": "code",
   "execution_count": 133,
   "metadata": {},
   "outputs": [
    {
     "data": {
      "text/plain": [
       "{'map': tensor(0.5214),\n",
       " 'map_50': tensor(0.7724),\n",
       " 'map_75': tensor(0.5832),\n",
       " 'map_small': tensor(0.2069),\n",
       " 'map_medium': tensor(0.6657),\n",
       " 'map_large': tensor(0.5283),\n",
       " 'mar_1': tensor(0.5240),\n",
       " 'mar_10': tensor(0.5629),\n",
       " 'mar_100': tensor(0.5629),\n",
       " 'mar_small': tensor(0.2361),\n",
       " 'mar_medium': tensor(0.7129),\n",
       " 'mar_large': tensor(0.5966),\n",
       " 'map_per_class': tensor([0.2492, 0.7142, 0.4752, 0.6471]),\n",
       " 'mar_100_per_class': tensor([0.3265, 0.7491, 0.4983, 0.6778])}"
      ]
     },
     "execution_count": 133,
     "metadata": {},
     "output_type": "execute_result"
    }
   ],
   "source": [
    "metric_scorer = MeanAveragePrecision(box_format=\"xyxy\", class_metrics=True)\n",
    "    \n",
    "metric_scorer.update(test_preds, test_target)\n",
    "# Only present mAP for simplicity\n",
    "metrics = metric_scorer.compute()\n",
    "\n",
    "metrics"
   ]
  },
  {
   "cell_type": "code",
   "execution_count": 134,
   "metadata": {},
   "outputs": [],
   "source": [
    "import cv2\n",
    "\n",
    "os.makedirs(f\"{OUT_DIR}/images\", exist_ok=True)\n",
    "\n",
    "def hex2rgb(h):  # rgb order\n",
    "    return tuple(int(h[1 + i:1 + i + 2], 16) for i in (0, 2, 4))\n",
    "\n",
    "colors = [hex2rgb(hex) for hex in ('#FF3838', '#FF9D97', '#FF701F', '#FFB21D', '#CFD231', '#48F90A', '#92CC17', '#3DDB86', '#1A9334', '#00D4BB',\n",
    "            '#2C99A8', '#00C2FF', '#344593', '#6473FF', '#0018EC', '#8438FF', '#520085', '#CB38FF', '#FF95C8', '#FF37C7')]\n",
    "line_width = 1\n",
    "\n",
    "def label_image(outputs, id):\n",
    "    image = cv2.imread(f\"{IMG_DIR}/road{id}.png\")\n",
    "    # Annotation code taken from https://github.com/ultralytics/yolov5/ for consistency between YOLO and FRCNN outputs\n",
    "    for label, box, score in zip(outputs[\"labels\"], outputs[\"boxes\"], outputs[\"scores\"]):\n",
    "        label = f\"{label_decode_map[label.item()]} {score:.2f}\"\n",
    "        p1, p2 = (int(box[0]), int(box[1])), (int(box[2]), int(box[3]))\n",
    "        color = colors[np.random.choice(range(len(colors)))]\n",
    "        color = (color[2], color[1], color[0])\n",
    "\n",
    "        cv2.rectangle(image, p1, p2, color, thickness=line_width, lineType=cv2.LINE_AA)\n",
    "        tf = max(line_width - 1, 1)  # font thickness\n",
    "        w, h = cv2.getTextSize(label, 0, fontScale=line_width / 3, thickness=tf)[0]  # text width, height\n",
    "        outside = p1[1] - h >= 3\n",
    "        p2 = p1[0] + w, p1[1] - h - 3 if outside else p1[1] + h + 3\n",
    "        cv2.rectangle(image, p1, p2, color, -1, cv2.LINE_AA)  # filled\n",
    "        cv2.putText(image,\n",
    "                    label, (p1[0], p1[1] - 2 if outside else p1[1] + h + 2),\n",
    "                    0,\n",
    "                    line_width / 3,\n",
    "                    (255, 255, 255),\n",
    "                    thickness=tf,\n",
    "                    lineType=cv2.LINE_AA)\n",
    "        \n",
    "    cv2.imwrite(f\"{OUT_DIR}/images/road{id}.png\", image)"
   ]
  },
  {
   "cell_type": "code",
   "execution_count": 135,
   "metadata": {},
   "outputs": [],
   "source": [
    "for output, id in zip(test_preds, test_ids):\n",
    "    label_image(output, id)"
   ]
  },
  {
   "cell_type": "code",
   "execution_count": null,
   "metadata": {},
   "outputs": [],
   "source": []
  }
 ],
 "metadata": {
  "interpreter": {
   "hash": "706ee1819b983a943bbea807e6681581497887a5e921ebf85b777ef931d5d8ae"
  },
  "kernelspec": {
   "display_name": "Python 3.8.9 64-bit",
   "language": "python",
   "name": "python3"
  },
  "language_info": {
   "codemirror_mode": {
    "name": "ipython",
    "version": 3
   },
   "file_extension": ".py",
   "mimetype": "text/x-python",
   "name": "python",
   "nbconvert_exporter": "python",
   "pygments_lexer": "ipython3",
   "version": "3.8.9"
  },
  "orig_nbformat": 4
 },
 "nbformat": 4,
 "nbformat_minor": 2
}
