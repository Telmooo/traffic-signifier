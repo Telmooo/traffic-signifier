{
 "cells": [
  {
   "cell_type": "code",
   "execution_count": 1,
   "metadata": {},
   "outputs": [],
   "source": [
    "import matplotlib.pyplot as plt\n",
    "import sys\n",
    "sys.path.append(\"./\")\n",
    "import utils.dataloaders as dataloaders\n",
    "\n",
    "test_filenames = []\n",
    "with open(\"../data/dl-split/test.txt\") as test_files:\n",
    "    test_filenames = [line.strip(\"\\n\") for line in test_files.readlines()]\n",
    "\n",
    "dataset = dataloaders.RoadSignDataset(\n",
    "    images_filenames=test_filenames,\n",
    "    images_directory=\"../data/images/\",\n",
    "    annotations_directory=\"../data/annotations/\",\n",
    "    is_train=True,\n",
    "    multilabel=False,\n",
    ")"
   ]
  },
  {
   "cell_type": "code",
   "execution_count": 2,
   "metadata": {},
   "outputs": [],
   "source": [
    "def visualize(image):\n",
    "    plt.figure(figsize=(20, 10))\n",
    "    plt.axis('off')\n",
    "    plt.imshow(image)"
   ]
  },
  {
   "cell_type": "code",
   "execution_count": 3,
   "metadata": {},
   "outputs": [],
   "source": [
    "image, annotation = dataset.__getitem__(2)"
   ]
  },
  {
   "cell_type": "code",
   "execution_count": 4,
   "metadata": {},
   "outputs": [
    {
     "data": {
      "text/plain": [
       "{'labels': tensor([-1]),\n",
       " 'bboxes': tensor([[-1., -1., -1., -1.]]),\n",
       " 'areas': tensor([-1.])}"
      ]
     },
     "execution_count": 4,
     "metadata": {},
     "output_type": "execute_result"
    }
   ],
   "source": [
    "annotation"
   ]
  },
  {
   "cell_type": "code",
   "execution_count": 5,
   "metadata": {},
   "outputs": [],
   "source": [
    "from torch.utils.data import DataLoader\n",
    "train_dataloader = DataLoader(\n",
    "        dataset=dataset,\n",
    "        batch_size=32,\n",
    "        num_workers=2,\n",
    "        shuffle=False,\n",
    "        drop_last=True,\n",
    "        collate_fn=dataset.collate_fn\n",
    "    )"
   ]
  },
  {
   "cell_type": "code",
   "execution_count": 6,
   "metadata": {},
   "outputs": [
    {
     "name": "stdout",
     "output_type": "stream",
     "text": [
      "torch.Size([32])\n",
      "tensor([ 1,  3,  1,  1, -1,  1, -1,  0, -1,  0,  3,  1,  2,  2,  3,  1,  1,  1,\n",
      "         0, -1,  0,  1,  0,  1,  1,  1,  2,  1, -1,  1,  1, -1])\n"
     ]
    }
   ],
   "source": [
    "for batch, (X, y) in enumerate(train_dataloader):\n",
    "    print(y[\"labels\"].shape)\n",
    "    print(y[\"labels\"])\n",
    "    print(y[\"bboxes\"].shape)\n",
    "    print(y[\"bboxes\"])\n",
    "    print(y[\"areas\"].shape)\n",
    "    print(y[\"areas\"])\n",
    "    break"
   ]
  }
 ],
 "metadata": {
  "interpreter": {
   "hash": "706ee1819b983a943bbea807e6681581497887a5e921ebf85b777ef931d5d8ae"
  },
  "kernelspec": {
   "display_name": "Python 3.8.9 64-bit",
   "language": "python",
   "name": "python3"
  },
  "language_info": {
   "codemirror_mode": {
    "name": "ipython",
    "version": 3
   },
   "file_extension": ".py",
   "mimetype": "text/x-python",
   "name": "python",
   "nbconvert_exporter": "python",
   "pygments_lexer": "ipython3",
   "version": "3.8.9"
  },
  "orig_nbformat": 4
 },
 "nbformat": 4,
 "nbformat_minor": 2
}
