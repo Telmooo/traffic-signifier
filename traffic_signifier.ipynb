{
 "cells": [
  {
   "cell_type": "markdown",
   "metadata": {
    "pycharm": {
     "name": "#%% md\n"
    }
   },
   "source": [
    "**Required Libraries**"
   ]
  },
  {
   "cell_type": "code",
   "execution_count": null,
   "metadata": {},
   "outputs": [],
   "source": [
    "from collections import defaultdict\n",
    "\n",
    "import cv2 as cv\n",
    "import numpy as np\n",
    "import matplotlib.pyplot as plt\n",
    "import pandas as pd"
   ]
  },
  {
   "cell_type": "markdown",
   "metadata": {
    "pycharm": {
     "name": "#%% md\n"
    }
   },
   "source": [
    "**Constant definitions**"
   ]
  },
  {
   "cell_type": "code",
   "execution_count": null,
   "metadata": {},
   "outputs": [],
   "source": [
    "DATA_DIR = \"./data/images\"\n",
    "ANNOT_DIR = \"./data/annotations\""
   ]
  },
  {
   "cell_type": "markdown",
   "metadata": {
    "pycharm": {
     "name": "#%% md\n"
    }
   },
   "source": [
    "**Utility Functions**"
   ]
  },
  {
   "cell_type": "code",
   "execution_count": null,
   "metadata": {},
   "outputs": [],
   "source": [
    "def clamp(value, minimum, maximum):\n",
    "    return min(maximum, max(minimum, value))"
   ]
  },
  {
   "cell_type": "code",
   "execution_count": null,
   "metadata": {},
   "outputs": [],
   "source": [
    "def display_bgr_image(bgr_image, show=True):\n",
    "    rgb_image = cv.cvtColor(bgr_image, cv.COLOR_BGR2RGB)\n",
    "    fig, ax = plt.subplots()\n",
    "    ax.imshow(rgb_image)\n",
    "    ax.axis(False)\n",
    "    if show:\n",
    "        plt.show()\n",
    "    return fig, ax\n",
    "\n",
    "def display_gray_image(gray_image, show=True):\n",
    "    fig, ax = plt.subplots()\n",
    "    ax.imshow(gray_image, cmap=\"gray\")\n",
    "    ax.axis(False)\n",
    "    if show:\n",
    "        plt.show()\n",
    "    return fig, ax"
   ]
  },
  {
   "cell_type": "code",
   "execution_count": null,
   "metadata": {},
   "outputs": [],
   "source": [
    "def weighted_gray_transform(bgr_image, weights=[0.114, 0.587, 0.299]):\n",
    "    m = np.array(weights).reshape((1,3))\n",
    "    return cv.transform(bgr_image, m)"
   ]
  },
  {
   "cell_type": "markdown",
   "metadata": {
    "pycharm": {
     "name": "#%% md\n"
    }
   },
   "source": [
    "# Original Image"
   ]
  },
  {
   "cell_type": "code",
   "execution_count": null,
   "metadata": {},
   "outputs": [],
   "source": [
    "selected_image = 272\n",
    "src_image = cv.imread(f\"{DATA_DIR}/road{selected_image}.png\")\n",
    "\n",
    "fig, ax = display_bgr_image(src_image)\n",
    "plt.clf();"
   ]
  },
  {
   "cell_type": "markdown",
   "metadata": {
    "pycharm": {
     "name": "#%% md\n"
    }
   },
   "source": [
    "# Image Processing\n",
    "In this phase, the image will be treated in an attempt to reduce possible noise from environment and/or weather, this will be achieved by applying **CLAHE equalization** on the image, followed by an **automatic brightness and contrast correction** and finishing with the initial step of **meanShift**, this is the filtering stage of the **meanshift** segmentation that flattens color gradients and fine-grain textures of the image (see `pyrMeanShiftFiltering`)."
   ]
  },
  {
   "cell_type": "markdown",
   "metadata": {},
   "source": [
    "## Attenuating bright sky blue lighting"
   ]
  },
  {
   "cell_type": "code",
   "execution_count": null,
   "metadata": {},
   "outputs": [],
   "source": [
    "def segment_sky(bgr_image):\n",
    "    hsv_image = cv.cvtColor(bgr_image, cv.COLOR_BGR2HSV)\n",
    "\n",
    "    # Light blue sky zone\n",
    "    lowerbound = np.array([85, 60, 130])\n",
    "    upperbound = np.array([108, 255, 255])\n",
    "\n",
    "    mask = cv.inRange(hsv_image, lowerbound, upperbound)\n",
    "    \n",
    "    segmented_image = cv.bitwise_and(bgr_image, bgr_image, mask=mask)\n",
    "    BIN_THRESHOLD = 0.5\n",
    "\n",
    "    gray_image = cv.cvtColor(segmented_image, cv.COLOR_BGR2GRAY)\n",
    "\n",
    "    threshold = int(255 * BIN_THRESHOLD)\n",
    "    ret_thresh, gray_image = cv.threshold(gray_image, threshold, 255, cv.THRESH_BINARY + cv.THRESH_OTSU)\n",
    "\n",
    "    return gray_image\n",
    "\n",
    "def attenuate_sky_light(bgr_image):\n",
    "    max_pixels = np.argmax(bgr_image, axis=2)\n",
    "    max_blue_pixels = max_pixels[max_pixels == 0].size\n",
    "\n",
    "    sky_image = segment_sky(bgr_image)\n",
    "    sky_pixels = sky_image[sky_image > 127].size\n",
    "    total_pixels = sky_image.size\n",
    "    max_blue_ratio = float(max_blue_pixels) / total_pixels\n",
    "    sky_ratio = float(sky_pixels) / total_pixels\n",
    "\n",
    "    display_gray_image(sky_image)\n",
    "\n",
    "    print(f\"Maximum B pixels = {max_blue_ratio}\")\n",
    "    print(f\"Sky ratio = {sky_ratio}\")\n",
    "    SKY_THRESHOLD = 0.40\n",
    "    MAX_BLUE_THRESHOLD = 0.85\n",
    "    if sky_ratio > SKY_THRESHOLD and max_blue_ratio > MAX_BLUE_THRESHOLD:\n",
    "        B, G, R = cv.split(bgr_image)\n",
    "        return cv.merge([cv.equalizeHist(B), cv.equalizeHist(G), cv.equalizeHist(R)])\n",
    "    else:\n",
    "        return bgr_image\n",
    "\n",
    "attenuated_image = attenuate_sky_light(src_image)\n",
    "display_bgr_image(attenuated_image)\n",
    "plt.clf();"
   ]
  },
  {
   "cell_type": "markdown",
   "metadata": {
    "pycharm": {
     "name": "#%% md\n"
    }
   },
   "source": [
    "## CLAHE Equalization"
   ]
  },
  {
   "cell_type": "code",
   "execution_count": null,
   "metadata": {},
   "outputs": [],
   "source": [
    "def hsv_clahe_equalization(bgr_image, clipLimit = 2.0, tileGridSize = (8, 8)):\n",
    "    hsv_image = cv.cvtColor(bgr_image, cv.COLOR_BGR2HSV)\n",
    "\n",
    "    h, s, v = cv.split(hsv_image)\n",
    "\n",
    "    clahe = cv.createCLAHE(\n",
    "        clipLimit=clipLimit,\n",
    "        tileGridSize=tileGridSize\n",
    "    )\n",
    "\n",
    "    s_equalized = clahe.apply(s)\n",
    "    v_equalized = clahe.apply(v)\n",
    "\n",
    "    equalized_image = cv.merge([h, s_equalized, v_equalized])\n",
    "    return cv.cvtColor(equalized_image, cv.COLOR_HSV2BGR)\n",
    "\n",
    "clahe_image = hsv_clahe_equalization(attenuated_image, clipLimit=3.0, tileGridSize=(15, 15))\n",
    "fig, ax = display_bgr_image(clahe_image)\n",
    "plt.clf();"
   ]
  },
  {
   "cell_type": "markdown",
   "metadata": {
    "pycharm": {
     "name": "#%% md\n"
    }
   },
   "source": [
    "## Automatic Brightness and Contrast Correction"
   ]
  },
  {
   "cell_type": "code",
   "execution_count": null,
   "metadata": {},
   "outputs": [],
   "source": [
    "def automatic_brightness_contrast(bgr_image, clip_hist_percent = 0.01, use_scale_abs = True, return_verbose = False):\n",
    "    gray_image = cv.cvtColor(bgr_image, cv.COLOR_BGR2GRAY)\n",
    "\n",
    "    # Grayscale histogram of the image\n",
    "    hist = cv.calcHist([gray_image], [0], None, [256], [0, 256])\n",
    "    hist_size = len(hist)\n",
    "\n",
    "    # Cumulative distribution of the histogram\n",
    "    acc = []\n",
    "    acc.append( float(hist[0]) )\n",
    "    for i in range(1, hist_size):\n",
    "        acc.append( acc[i - 1] + float(hist[i]) )\n",
    "    \n",
    "    # Locate points to clip\n",
    "    maximum = acc[-1]\n",
    "    clip_hist = clip_hist_percent * maximum / 2.0\n",
    "\n",
    "    # Left cut\n",
    "    minimum_gray = 0\n",
    "    while acc[minimum_gray] < clip_hist:\n",
    "        minimum_gray += 1\n",
    "\n",
    "    # Right cut\n",
    "    maximum_gray = hist_size - 1\n",
    "    while acc[maximum_gray] >= (maximum - clip_hist):\n",
    "        maximum_gray -= 1\n",
    "\n",
    "    # Calculate alpha and beta values for the scaling\n",
    "    alpha = 255 / (maximum_gray - minimum_gray + 1e-6)\n",
    "    beta = - minimum_gray * alpha\n",
    "\n",
    "    if use_scale_abs:\n",
    "        processed_image = cv.convertScaleAbs(bgr_image, alpha=alpha, beta=beta)\n",
    "    else:\n",
    "        processed_image = np.uint8(np.abs(bgr_image * alpha + beta))\n",
    "        processed_image = np.clip(processed_image, 0, 255)\n",
    "\n",
    "    if return_verbose:\n",
    "        processed_hist = cv.calcHist([gray_image], [0], None, [256], [minimum_gray, maximum_gray])\n",
    "\n",
    "        return processed_image, alpha, beta, hist, processed_hist\n",
    "    \n",
    "    return processed_image\n",
    "\n",
    "contrast_image = automatic_brightness_contrast(clahe_image, clip_hist_percent=0.01, use_scale_abs=True)\n",
    "fig, ax = display_bgr_image(contrast_image)\n",
    "plt.clf();\n"
   ]
  },
  {
   "cell_type": "markdown",
   "metadata": {
    "pycharm": {
     "name": "#%% md\n"
    }
   },
   "source": [
    "## Mean Shift Filtering"
   ]
  },
  {
   "cell_type": "code",
   "execution_count": null,
   "metadata": {},
   "outputs": [],
   "source": [
    "processed_image = cv.pyrMeanShiftFiltering(contrast_image, 10, 25, 100)\n",
    "fig, ax = display_bgr_image(processed_image)\n",
    "plt.clf();"
   ]
  },
  {
   "cell_type": "markdown",
   "metadata": {
    "pycharm": {
     "name": "#%% md\n"
    }
   },
   "source": [
    "# Color Segmentation"
   ]
  },
  {
   "cell_type": "markdown",
   "metadata": {
    "pycharm": {
     "name": "#%% md\n"
    }
   },
   "source": [
    "In this phase, the processed image will be segmented by color. It was decided to segment the reds and blues separately. Afterwards, the segmented image is binarized by application of thresholding techniques, in this case, it was decided to use Otsu technique for thresholding. Further more, it is done a small post-processing to remove small components of the image that aren't likely to be traffic signs."
   ]
  },
  {
   "cell_type": "code",
   "execution_count": null,
   "metadata": {},
   "outputs": [],
   "source": [
    "def segment(bgr_image):\n",
    "    smooth_image = cv.edgePreservingFilter(bgr_image, flags=cv.NORMCONV_FILTER, sigma_s=50, sigma_r=0.25)\n",
    "    B, G, R = cv.split(smooth_image)\n",
    "    display_bgr_image(smooth_image)\n",
    "    hsv_image = cv.cvtColor(smooth_image, cv.COLOR_BGR2HSV)    \n",
    "    H, S, V = cv.split(hsv_image)\n",
    "\n",
    "    B, G, R = np.float64(B) / 255.0, np.float64(G) / 255.0, np.float64(R) / 255.0\n",
    "    H, S, V = np.float64(H) / 179.0 * 360.0, np.float64(S) / 255.0, np.float64(V) / 255.0\n",
    "\n",
    "    M, N, _ = smooth_image.shape\n",
    "    hd_blue = np.zeros(shape=(M, N), dtype=np.float64)\n",
    "    hd_red = np.zeros(shape=(M, N), dtype=np.float64)\n",
    "    hd_white_black = np.zeros(shape=(M, N), dtype=np.float64)\n",
    "    \n",
    "    RED_TH_1 = 25\n",
    "    RED_TH_2 = 315\n",
    "    RED_S_TH = 0.35\n",
    "    RED_V_TH = 0.10\n",
    "\n",
    "    BLUE_TH_L = 200\n",
    "    BLUE_TH_H = 255\n",
    "    BLUE_S_TH = 0.45\n",
    "    BLUE_V_TH = 0.15\n",
    "\n",
    "    WHITE_S_TH = 0.1\n",
    "    BLACK_V_TH = 0.1\n",
    "\n",
    "    hd_red[(H <= RED_TH_1) & (S >= RED_S_TH) & (V >= RED_V_TH)] = 1.0\n",
    "    hd_red[(H >= RED_TH_2) & (S >= RED_S_TH) & (V >= RED_V_TH)] = 1.0\n",
    "\n",
    "    hd_blue[(H >= BLUE_TH_L) & (H <= BLUE_TH_H) & (S >= BLUE_S_TH) & (V >= BLUE_V_TH)] = 1.0\n",
    "\n",
    "    hd_white_black[(S <= WHITE_S_TH) | (V <= BLACK_V_TH)] = 1.0\n",
    "\n",
    "    hs_red = np.uint8(hd_red * 255)\n",
    "    hs_blue = np.uint8(hd_blue * 255)\n",
    "    hs_white_black = np.uint8(hd_white_black * 255)\n",
    "\n",
    "    return hs_red, hs_blue, hs_white_black\n",
    "\n",
    "# red_segmented_image_2, blue_segmented_image_2 = segment_2(processed_image)\n",
    "red_segmented_image, blue_segmented_image, white_black_segmented_image = segment(processed_image)\n",
    "display_gray_image(red_segmented_image)\n",
    "plt.clf();\n",
    "print(\"---------------\")\n",
    "display_gray_image(blue_segmented_image)\n",
    "plt.clf();\n",
    "print(\"---------------\")\n",
    "display_gray_image(white_black_segmented_image)\n",
    "plt.clf();"
   ]
  },
  {
   "cell_type": "markdown",
   "metadata": {
    "pycharm": {
     "name": "#%% md\n"
    }
   },
   "source": [
    "## Post-segmentation Cleanup"
   ]
  },
  {
   "cell_type": "markdown",
   "metadata": {
    "pycharm": {
     "name": "#%% md\n"
    }
   },
   "source": [
    "Rethink the `removeSmallComponents`"
   ]
  },
  {
   "cell_type": "markdown",
   "metadata": {
    "pycharm": {
     "name": "#%% md\n"
    }
   },
   "source": [
    "# RoI Extraction"
   ]
  },
  {
   "cell_type": "markdown",
   "metadata": {
    "pycharm": {
     "name": "#%% md\n"
    }
   },
   "source": [
    "In this phase, it will be extracted the regions of interest (RoI) of the segmented images, those will be considered the potential traffic signs for the next phase. To do this extraction, it will be applied an edge detector followed by extracting the contours and then the bounding rectangle of that contour as the RoI."
   ]
  },
  {
   "cell_type": "markdown",
   "metadata": {
    "pycharm": {
     "name": "#%% md\n"
    }
   },
   "source": [
    "## Edge Detection"
   ]
  },
  {
   "cell_type": "code",
   "execution_count": null,
   "metadata": {},
   "outputs": [],
   "source": [
    "def edge_detection(gray_image):\n",
    "    # Apply morphological operation to soften possible artefacts\n",
    "    # kernel = cv.getStructuringElement(cv.MORPH_ELLIPSE, ksize=(3, 3))\n",
    "    # morph_image = cv.morphologyEx(gray_image, cv.MORPH_CLOSE, kernel, iterations=1)\n",
    "    morph_image = gray_image.copy()\n",
    "\n",
    "    #return cv.Canny(morph_image, threshold1=100, threshold2=200, apertureSize=5)\n",
    "    return cv.adaptiveThreshold(morph_image, 255, cv.ADAPTIVE_THRESH_GAUSSIAN_C, cv.THRESH_BINARY_INV, 3, 10)\n",
    "\n",
    "    \n",
    "\n",
    "red_edges = edge_detection(red_segmented_image)\n",
    "print(\"Edges of Red Segmented Image\")\n",
    "fig, ax = display_gray_image(red_edges)\n",
    "plt.clf();\n",
    "\n",
    "blue_edges = edge_detection(blue_segmented_image)\n",
    "print(\"Edges of Blue Segmented Image\")\n",
    "fig, ax = display_gray_image(blue_edges)\n",
    "plt.clf();\n"
   ]
  },
  {
   "cell_type": "markdown",
   "metadata": {
    "pycharm": {
     "name": "#%% md\n"
    }
   },
   "source": [
    "## Extract RoI"
   ]
  },
  {
   "cell_type": "markdown",
   "metadata": {
    "pycharm": {
     "name": "#%% md\n"
    }
   },
   "source": [
    "Regions of interest will be bounding rectangles of the contours detected in the image processed by Canny edge detector. To eliminate redundant RoI and false positives, RoI that are contained completely inside another will be merged, and RoI which don't meet certain criteria will also be discarded."
   ]
  },
  {
   "cell_type": "code",
   "execution_count": null,
   "metadata": {},
   "outputs": [],
   "source": [
    "def mergeROI(rois):\n",
    "    # Sort RoI by X-coordinate and width to merge RoI\n",
    "    sorted_rois = sorted(rois, key=lambda roi: (roi[0][0], -roi[0][2], roi[0][1], -roi[0][3]))\n",
    "\n",
    "    i = 0\n",
    "    while True:\n",
    "        if i >= len(sorted_rois):\n",
    "            break\n",
    "\n",
    "        pivot = sorted_rois[i]\n",
    "        pivot_x0, pivot_y0, pivot_x1, pivot_y1 = pivot[0][0], pivot[0][1], pivot[0][0] + pivot[0][2], pivot[0][1] + pivot[0][3]\n",
    "        j = i + 1\n",
    "        while True:\n",
    "            if j >= len(sorted_rois):\n",
    "                break\n",
    "\n",
    "            other = sorted_rois[j]\n",
    "            other_x0, other_y0, other_x1, other_y1 = other[0][0], other[0][1], other[0][0] + other[0][2], other[0][1] + other[0][3]\n",
    "        \n",
    "            # Beginning of other RoI is already past the ending of the pivot RoI\n",
    "            if other_x0 > pivot_x1:\n",
    "                break\n",
    "\n",
    "            # Check if it's inside, and delete if so, otherwise advance\n",
    "            if other_y0 > pivot_y0 and other_y1 < pivot_y1 and other_x1 < pivot_x1:\n",
    "                sorted_rois.pop(j)\n",
    "            else:\n",
    "                j += 1\n",
    "        \n",
    "        i += 1\n",
    "    return sorted_rois\n",
    "\n",
    "\n",
    "def extractROI(edge_image, red_image, blue_image, white_black_image, roi_type):\n",
    "    # kernel = cv.getStructuringElement(shape=cv.MORPH_ELLIPSE, ksize=(3, 3))\n",
    "    # morph_image = cv.morphologyEx(edge_image, cv.MORPH_DILATE, kernel, iterations=1)\n",
    "    morph_image = edge_image.copy()\n",
    "    contours, hierarchy = cv.findContours(morph_image, cv.RETR_LIST, cv.CHAIN_APPROX_NONE)\n",
    "\n",
    "    # Apply convex hulls to close off shapes\n",
    "    # contours = [cv.convexHull(contour) for contour in contours]\n",
    "\n",
    "    # Approximate contour\n",
    "    contours = [cv.approxPolyDP(contour, 0.004 * cv.arcLength(contour, True), True) for contour in contours]\n",
    "\n",
    "    rois = [(cv.boundingRect(contour), contour) for contour in contours]\n",
    "\n",
    "    i = 0\n",
    "    while True:\n",
    "        if i >= len(rois):\n",
    "            break\n",
    "\n",
    "        (x, y, w, h), contours = rois[i]\n",
    "        roi_size = w * h\n",
    "\n",
    "        SIZE_THRESHOLD = 15 * 15\n",
    "        if roi_size < SIZE_THRESHOLD:\n",
    "            rois.pop(i)\n",
    "            continue\n",
    "\n",
    "        # contourArea = cv.contourArea(contours)\n",
    "        # contourPerimeter = cv.arcLength(contours, True)\n",
    "        # if contourArea < contourPerimeter:\n",
    "        #     rois.pop(i)\n",
    "        #     continue\n",
    "\n",
    "        BIG_SIGN = 50 * 50\n",
    "        aspect_ratio = float(w) / (h + 1e-6)\n",
    "        if roi_type == \"red\":\n",
    "            if roi_size < BIG_SIGN:\n",
    "                ASPECT_RATIO_MIN = 0.6\n",
    "                ASPECT_RATIO_MAX = 1.4\n",
    "                if aspect_ratio < ASPECT_RATIO_MIN or aspect_ratio > ASPECT_RATIO_MAX: \n",
    "                    rois.pop(i)\n",
    "                    continue\n",
    "            else:\n",
    "                ASPECT_RATIO_MIN = 0.45\n",
    "                ASPECT_RATIO_MAX = 1.55\n",
    "                if aspect_ratio < ASPECT_RATIO_MIN or aspect_ratio > ASPECT_RATIO_MAX: \n",
    "                    rois.pop(i)\n",
    "                    continue\n",
    "        elif roi_type == \"blue\":\n",
    "            if roi_size < BIG_SIGN:\n",
    "                ASPECT_RATIO_MIN = 0.7\n",
    "                ASPECT_RATIO_MAX = 3.5\n",
    "                if aspect_ratio < ASPECT_RATIO_MIN or aspect_ratio > ASPECT_RATIO_MAX:\n",
    "                    rois.pop(i)\n",
    "                    continue\n",
    "            else:\n",
    "                ASPECT_RATIO_MIN = 0.45\n",
    "                ASPECT_RATIO_MAX = 3.0\n",
    "                if aspect_ratio < ASPECT_RATIO_MIN or aspect_ratio > ASPECT_RATIO_MAX: \n",
    "                    rois.pop(i)\n",
    "                    continue\n",
    "\n",
    "        blue_pixels = 0\n",
    "        red_pixels = 0\n",
    "        white_black_pixels = 0\n",
    "        contourArea = 0\n",
    "        for xi in range(x, x+w):\n",
    "            for yi in range(y, y+h):\n",
    "                if cv.pointPolygonTest(contours, (xi, yi), measureDist=False) >= 0:\n",
    "                    if red_image[yi, xi] > 127:\n",
    "                        red_pixels += 1\n",
    "                    if blue_image[yi, xi] > 127:\n",
    "                        blue_pixels += 1\n",
    "                    if white_black_image[yi, xi] > 127:\n",
    "                        white_black_pixels += 1 \n",
    "                    contourArea += 1\n",
    "\n",
    "        blue_ratio = blue_pixels / (roi_size + 1e-6)\n",
    "        red_ratio = red_pixels / (roi_size + 1e-6)\n",
    "        white_black_ratio = white_black_pixels / (roi_size + 1e-6)\n",
    "        red_blue_ratio = red_pixels / (blue_pixels + 1e-6)\n",
    "\n",
    "        if roi_type == \"red\":\n",
    "            if red_ratio < 0.10:\n",
    "                rois.pop(i)\n",
    "                continue\n",
    "        elif roi_type == \"blue\":\n",
    "            if blue_ratio < 0.3:\n",
    "                rois.pop(i)\n",
    "                continue\n",
    "        rois[i] = ((x, y, w, h), contours, red_ratio, blue_ratio, white_black_ratio, red_blue_ratio, contourArea)\n",
    "\n",
    "        i += 1\n",
    "    \n",
    "    rois = mergeROI(rois)\n",
    "    \n",
    "    return rois\n",
    "\n",
    "red_roi = extractROI(red_edges, red_image=red_segmented_image, blue_image=blue_segmented_image, white_black_image=white_black_segmented_image, roi_type=\"red\")\n",
    "\n",
    "blue_roi = extractROI(blue_edges, red_image=red_segmented_image, blue_image=blue_segmented_image, white_black_image=white_black_segmented_image, roi_type=\"blue\")\n",
    "\n",
    "roi_red_image = np.zeros(shape=(red_edges.shape + (3,)), dtype=np.uint8)\n",
    "brect_roi_red_image = cv.cvtColor(red_edges.copy(), cv.COLOR_GRAY2BGR)\n",
    "print(\"Red Regions of Interest\")\n",
    "for roi in red_roi:\n",
    "    (x, y, w, h), contours, red_ratio, blue_ratio, white_black_ratio, red_blue_ratio, contourArea = roi\n",
    "    cv.rectangle(brect_roi_red_image, (int(x), int(y)), (int(x+w), int(y+h)), (197, 183, 255), 1)\n",
    "\n",
    "    cv.rectangle(roi_red_image, (int(x), int(y)), (int(x+w), int(y+h)), (197, 183, 255), 1)\n",
    "    cv.drawContours(roi_red_image, [contours], 0, color=(255, 255, 255))\n",
    "    region = np.zeros_like(red_edges[y:y+h, x:x+w])\n",
    "    cv.drawContours(region, [contours], 0, color=(255), offset=(-x, -y))\n",
    "\n",
    "    fig, ax = display_gray_image(region)\n",
    "    plt.clf();\n",
    "\n",
    "print(\"Edge image with bounding boxes and contours\")\n",
    "display_bgr_image(brect_roi_red_image)\n",
    "plt.clf();\n",
    "display_bgr_image(roi_red_image)\n",
    "plt.clf();\n",
    "\n",
    "print(\"Blue Regions of Interest\")\n",
    "roi_blue_image = np.zeros(shape=(blue_edges.shape + (3,)), dtype=np.uint8)\n",
    "brect_roi_blue_image = cv.cvtColor(blue_edges.copy(), cv.COLOR_GRAY2BGR)\n",
    "for roi in blue_roi:\n",
    "    (x, y, w, h), contours, red_ratio, blue_ratio, white_black_ratio, red_blue_ratio, contourArea = roi\n",
    "    cv.rectangle(brect_roi_blue_image, (int(x), int(y)), (int(x+w), int(y+h)), (197, 183, 255), 1)\n",
    "\n",
    "    cv.rectangle(roi_blue_image, (int(x), int(y)), (int(x+w), int(y+h)), (197, 183, 255), 1)\n",
    "    cv.drawContours(roi_blue_image, [contours], 0, color=(255, 255, 255))\n",
    "    region = np.zeros_like(blue_edges[y:y+h, x:x+w])\n",
    "    # for x0 in range(x, x+w):\n",
    "    #     for y0 in range(y, y+h):\n",
    "    #         if cv.pointPolygonTest(contours, (x0, y0), measureDist=False) >= 0:\n",
    "    #             region[y0-y, x0-x] = 255\n",
    "\n",
    "    cv.drawContours(region, [contours], 0, color=(255), offset=(-x, -y))\n",
    "    fig, ax = display_gray_image(region)\n",
    "    plt.clf();\n",
    "\n",
    "print(\"Edge image with bounding boxes and contours\")\n",
    "display_bgr_image(brect_roi_blue_image)\n",
    "plt.clf();\n",
    "display_bgr_image(roi_blue_image)\n",
    "plt.clf();"
   ]
  },
  {
   "cell_type": "markdown",
   "metadata": {
    "pycharm": {
     "name": "#%% md\n"
    }
   },
   "source": [
    "# Shape Detection"
   ]
  },
  {
   "cell_type": "markdown",
   "metadata": {},
   "source": [
    "## Corner Detection"
   ]
  },
  {
   "cell_type": "code",
   "execution_count": null,
   "metadata": {},
   "outputs": [],
   "source": [
    "def corner_detection(roi):\n",
    "    (x, y, w, h), contours, _, _, _, _, _ = roi\n",
    "    region = np.zeros(shape=(h, w), dtype=np.uint8)\n",
    "    cv.drawContours(region, [contours], 0, color=(255), offset=(-x, -y))\n",
    "    region_32f = np.float32(region)\n",
    "\n",
    "    corners = cv.cornerHarris(region_32f, 6, 5, 0.06)\n",
    "    corners = cv.dilate(corners, None)\n",
    "\n",
    "    norm_corners = np.empty(corners.shape, dtype=np.float32)\n",
    "    cv.normalize(corners, norm_corners, 255.0, 0.0, cv.NORM_INF)\n",
    "    norm_corners = cv.convertScaleAbs(norm_corners)\n",
    "\n",
    "    CORNER_THRESHOLD = 75\n",
    "\n",
    "    ND = 5\n",
    "    P = 1.0 / ND\n",
    "    dw, dh = int(P * w), int(P * h)\n",
    "\n",
    "    tl = 0.25 * (norm_corners[0:dh, 0:dw].max() > CORNER_THRESHOLD)\n",
    "    tc = 0.25 * (norm_corners[0:dh, (ND // 2)*dw:(ND // 2 + 1)*dw].max() > CORNER_THRESHOLD)\n",
    "    tr = 0.25 * (norm_corners[0:dh, (ND - 1)*dw:].max() > CORNER_THRESHOLD)\n",
    "\n",
    "    ml = 0.25 * (norm_corners[(ND // 2)*dh:(ND // 2 + 1)*dh, 0:dw].max() > CORNER_THRESHOLD)\n",
    "    mr = 0.25 * (norm_corners[(ND // 2)*dh:(ND // 2 + 1)*dh, (ND-1)*dw:].max() > CORNER_THRESHOLD)\n",
    "\n",
    "    bl = 0.25 * (norm_corners[(ND-1)*dh:, 0:dw].max() > CORNER_THRESHOLD)\n",
    "    bc = 0.25 * (norm_corners[(ND-1)*dh:, (ND // 2)*dw:(ND // 2 + 1)*dw].max() > CORNER_THRESHOLD)\n",
    "    br = 0.25 * (norm_corners[(ND-1)*dh:, (ND-1)*dw:].max() > CORNER_THRESHOLD)\n",
    "\n",
    "    sqp = max([\n",
    "        clamp(tl + tr + br + bl - 0.5 * (ml + mr + tc + bc), 0.0, 1.0),\n",
    "        clamp(0.65 * (bl + br + tr + tc) - tl - 0.5 * ml - 0.8 * (bc + mr), 0.0, 1.0), # oriented rightwards up\n",
    "        clamp(0.65 * (bl + br + tl + tc) - tr - 0.5 * mr - 0.8 * (bc + ml), 0.0, 1.0), # oriented leftwards up\n",
    "        clamp(0.65 * (tl + tr + bl + bc) - br - 0.5 * mr - 0.8 * (tc + ml), 0.0, 1.0), # oriented rightwards down\n",
    "        clamp(0.65 * (tl + tr + br + bc) - bl - 0.5 * ml - 0.8 * (tc + mr), 0.0, 1.0), # oriented leftwards down\n",
    "    ])\n",
    "    tup = max([\n",
    "        clamp(1/0.75 * (bl + br + tc) - 2.0 * (tl + tr) - 0.9 * (ml + mr), 0.0, 1.0),\n",
    "        clamp(1/0.90 * (bl + br + tl) - 2.5 * (tr + mr) - 0.9 * (ml + tc), 0.0, 1.0), # rectangle on bottom left\n",
    "        clamp(1/0.90 * (bl + br + tr) - 2.5 * (tl + ml) - 0.9 * (mr + tc), 0.0, 1.0) # rectangle on bottom right\n",
    "    ])\n",
    "    tdp = max([\n",
    "        clamp(1/0.75 * (tl + tr + bc) - 1.5 * (bl + br) - 0.9 * (ml + mr), 0.0, 1.0),\n",
    "        clamp(1/0.90 * (tl + tr + bl) - 2.5 * (br + mr) - 0.9 * (ml + bc), 0.0, 1.0), # rectangle on top left\n",
    "        clamp(1/0.90 * (tl + tr + br) - 2.5 * (bl + ml) - 0.9 * (mr + bc), 0.0, 1.0) # rectangle on top right\n",
    "    ])\n",
    "    circle = clamp(tc + bc + ml + mr + 0.2 * (tl + tr + bl + br), 0.0, 1.0)\n",
    "\n",
    "    print(f\"TL: {tl} | TC: {tc} |  TR: {tr} |  ML: {ml} |  MR: {mr} |  BL: {bl} |  BC: {bc} |  BR: {br}\")\n",
    "    print(f\"Square: {sqp} | Triangle Up: {tup} | Triangle Down: {tdp} | Circle: {circle}\")\n",
    "    display_gray_image(region)\n",
    "    plt.clf();\n",
    "\n",
    "    # Drawing corner borders for display only\n",
    "    norm_corners = cv.cvtColor(norm_corners, cv.COLOR_GRAY2BGR)\n",
    "    cv.rectangle(norm_corners, (0, 0), (dw, dh), (197, 183, 255), 1) # TL\n",
    "    cv.rectangle(norm_corners, ((ND // 2)*dw, 0), ((ND // 2 + 1)*dw, dh), (197, 183, 255), 1) # TC\n",
    "    cv.rectangle(norm_corners, ((ND-1)*dw, 0), (w, dh), (197, 183, 255), 1) # TR\n",
    "\n",
    "    cv.rectangle(norm_corners, (0, (ND // 2)*dh), (dw, (ND // 2 + 1)*dh), (197, 183, 255), 1) # ML\n",
    "    cv.rectangle(norm_corners, ((ND-1)*dw, (ND // 2)*dh), (w, (ND // 2 + 1)*dh), (197, 183, 255), 1) # MR\n",
    "\n",
    "    cv.rectangle(norm_corners, (0, (ND-1)*dh), (dw, h), (197, 183, 255), 1) # BL\n",
    "    cv.rectangle(norm_corners, ((ND // 2)*dw, (ND-1)*dh), ((ND // 2 + 1)*dw, h), (197, 183, 255), 1) # BC\n",
    "    cv.rectangle(norm_corners, ((ND-1)*dw, (ND-1)*dh), (w, h), (197, 183, 255), 1) # BR\n",
    "    display_gray_image(norm_corners)\n",
    "    plt.clf();\n",
    "    return sqp, max(tup, tdp), circle\n",
    "\n",
    "print(\"Corner detection on reds\")\n",
    "for i in range(len(red_roi)):\n",
    "    roi = red_roi[i]\n",
    "    (brect_x, brect_y, brect_w, brect_h), contour, red_ratio, blue_ratio, white_black_ratio, red_blue_ratio, contourArea = roi\n",
    "    sqp, trg, circle = corner_detection(roi)\n",
    "    red_roi[i] = ((brect_x, brect_y, brect_w, brect_h), contour,  red_ratio, blue_ratio, white_black_ratio, red_blue_ratio, contourArea, sqp, trg, circle)\n",
    "\n",
    "print(\"Corner detection on blues\")\n",
    "for i in range(len(blue_roi)):\n",
    "    roi = blue_roi[i]\n",
    "    (brect_x, brect_y, brect_w, brect_h), contour, red_ratio, blue_ratio, white_black_ratio, red_blue_ratio, contourArea = roi\n",
    "    sqp, trg, circle = corner_detection(roi)\n",
    "    blue_roi[i] = ((brect_x, brect_y, brect_w, brect_h), contour, red_ratio, blue_ratio, white_black_ratio, red_blue_ratio, contourArea, sqp, trg, circle)"
   ]
  },
  {
   "cell_type": "markdown",
   "metadata": {},
   "source": [
    "## Geometrical Ratio Analysis"
   ]
  },
  {
   "cell_type": "code",
   "execution_count": null,
   "metadata": {},
   "outputs": [],
   "source": [
    "# Mathematical ratios\n",
    "circularity_ratios = {\n",
    "    \"circle\": 1,\n",
    "    \"quadrilateral\": 0.70,\n",
    "    \"octagon\": 0.92,\n",
    "    \"triangle\": 0.41,\n",
    "    # \"diamond\": 0.64,\n",
    "}\n",
    "\n",
    "extent_ratios = {\n",
    "    \"circle\": 0.785,\n",
    "    \"quadrilateral\": 1,\n",
    "    \"octagon\": 0.829,\n",
    "    \"triangle\": 0.498,\n",
    "    # \"diamond\": 0.5,\n",
    "}\n",
    "\n",
    "minextent_ratios = {\n",
    "    \"circle\": 0.785,\n",
    "    \"quadrilateral\": 1,\n",
    "    \"octagon\": 0.829,\n",
    "    \"triangle\": 0.498,\n",
    "    # \"diamond\": 1\n",
    "}\n",
    "\n",
    "red_ratios = {\n",
    "    \"circle\": 0.30,\n",
    "    \"quadrilateral\": 0.0,\n",
    "    \"octagon\": 0.65,\n",
    "    \"triangle\": 0.20,\n",
    "}\n",
    "\n",
    "blue_ratios = {\n",
    "    \"circle\": 0.60,\n",
    "    \"quadrilateral\": 0.60,\n",
    "    \"octagon\": 0.0,\n",
    "    \"triangle\": 0.0,\n",
    "}\n",
    "\n",
    "output_classes = defaultdict(lambda: \"unknown\", {\n",
    "    (\"circle\", \"red\"): \"prohibitory\",\n",
    "    (\"triangle\", \"red\"): \"priority\",\n",
    "    (\"octagon\", \"red\"): \"stop\",\n",
    "\n",
    "    (\"quadrilateral\", \"blue\"): \"information\",\n",
    "    (\"circle\", \"blue\"): \"mandatory\",\n",
    "})\n",
    "\n",
    "def detect_shape(roi, roi_type, return_probabilities = False):\n",
    "    (brect_x, brect_y, brect_w, brect_h), contour, red_ratio, blue_ratio, white_black_ratio, red_blue_ratio, contourArea, sqp, trg, circle = roi\n",
    "\n",
    "    contourPerimeter = cv.arcLength(contour, True)\n",
    "    # Bounding Rectangle Area - used to calculate extent of contour\n",
    "    brect_area = brect_w * brect_h\n",
    "    extent = contourArea / (brect_area + 1e-6)\n",
    "\n",
    "    # Minimum Bounding Rectangle - takes into account orientation and fits the bounding rectangle thighly\n",
    "    (min_brect_x0, min_brect_y0), (min_brect_x1, min_brect_y1), min_brect_angle = cv.minAreaRect(contour)\n",
    "    min_brect_area = abs(min_brect_x0 - min_brect_x1) * abs(min_brect_y0 - min_brect_y1)\n",
    "\n",
    "    min_extent = contourArea / (min_brect_area + 1e-6)\n",
    "\n",
    "    # Circularity - measures how compact the contour is\n",
    "    circularity = (4 * np.pi * contourArea) / (contourPerimeter * contourPerimeter + 1e-6)\n",
    "\n",
    "    # Minimum Enclosing Circle - similar to circularity\n",
    "    (min_circle_x, min_circle_y), circle_radius = cv.minEnclosingCircle(contour)\n",
    "    min_circle_area = np.pi * circle_radius * circle_radius\n",
    "\n",
    "    circle_extent = contourArea / (min_circle_area + 1e-6)\n",
    "\n",
    "    metrics = [\"circularity\", \"circle_extent\", \"extent\", \"min_extent\"]\n",
    "    ratios = [circularity, circle_extent, extent, min_extent]\n",
    "    ratio_tables = [circularity_ratios, circularity_ratios, extent_ratios, minextent_ratios]\n",
    "    if roi_type == \"red\":\n",
    "        metrics.append(\"color_ratio\")\n",
    "        ratios.append(red_ratio)\n",
    "        ratio_tables.append(red_ratios)\n",
    "    elif roi_type == \"blue\":\n",
    "        metrics.append(\"color_ratio\")\n",
    "        ratios.append(blue_ratio)\n",
    "        ratio_tables.append(blue_ratios)\n",
    "    \n",
    "    metrics.append(\"corners\")\n",
    "    n_metrics = len(metrics)\n",
    "\n",
    "    classes = [\"circle\", \"quadrilateral\", \"octagon\", \"triangle\"] # Add diamond\n",
    "    n_classes = len(classes)\n",
    "\n",
    "    probability_table = np.zeros(shape=(n_metrics + 1, n_classes + 1))\n",
    "    for i in range(n_metrics - 1):\n",
    "        ratio = ratios[i]\n",
    "        table = ratio_tables[i]\n",
    "        for j in range(n_classes):\n",
    "            shape_class = classes[j]\n",
    "            class_ratio = table[shape_class]\n",
    "            probability_table[i, j] = abs(ratio - class_ratio) # / (class_ratio + 1e-6)\n",
    "        \n",
    "        probability_table[i, n_classes] = np.sum(probability_table[i, 0:n_classes])\n",
    "        probability_table[i, 0:n_classes] = (1 - (probability_table[i, 0:n_classes] / (probability_table[i, n_classes] + 1e-6))) #/ (n_classes - 1)\n",
    "        probability_table[i, n_classes] = np.sum(probability_table[i, 0:n_classes])\n",
    "\n",
    "    # Add corners row\n",
    "    probability_table[n_metrics - 1, :n_classes] = np.array([circle, sqp, circle, trg])\n",
    "    # probability_table[n_metrics - 1, n_classes] = np.sum(probability_table[n_metrics - 1, 0:n_classes])\n",
    "    # probability_table[n_metrics - 1, :n_classes] /= (probability_table[n_metrics - 1, n_classes] + 1e-6)\n",
    "\n",
    "    probability_table[-1, :n_classes] = np.mean(probability_table[:-1, :-1], axis=0)\n",
    "    probability_table[-1, n_classes] = np.sum(probability_table[-1, 0:n_classes])\n",
    "\n",
    "    CORNER_THRESHOLD = 0.60\n",
    "\n",
    "    if roi_type == \"red\":\n",
    "        max_corner = np.argmax(probability_table[metrics.index(\"corners\"), :n_classes])\n",
    "        corner_prob = probability_table[metrics.index(\"corners\"), max_corner]\n",
    "        if corner_prob < 0.40:\n",
    "            circularity = np.mean([\n",
    "                    probability_table[metrics.index(\"circularity\"), 0],\n",
    "                    probability_table[metrics.index(\"circle_extent\"), 0]\n",
    "                ])\n",
    "            if circularity > 0.90:\n",
    "                color_ratio = np.array([probability_table[metrics.index(\"color_ratio\"), 0], probability_table[metrics.index(\"color_ratio\"), 2]])\n",
    "                max_color_ratio = np.argmax(color_ratio)\n",
    "                max_color_ratio_prob = color_ratio[max_color_ratio]\n",
    "                if max_color_ratio == 1 and max_color_ratio_prob > 0.8:\n",
    "                    chosen_shape = \"octagon\"\n",
    "                elif max_color_ratio == 0 and max_color_ratio_prob > 0.8:\n",
    "                    chosen_shape = \"circle\"\n",
    "                else:\n",
    "                    chosen_shape = \"other\"\n",
    "            else:\n",
    "                chosen_shape = \"other\"\n",
    "        else:\n",
    "            if max_corner == 1: # quadrilateral\n",
    "                chosen_shape = \"other\"\n",
    "            elif (max_corner == 0 or max_corner == 2) and corner_prob > CORNER_THRESHOLD: # circle | octagon\n",
    "                color_ratio = np.array([probability_table[metrics.index(\"color_ratio\"), 0], probability_table[metrics.index(\"color_ratio\"), 2]])\n",
    "                max_color_ratio = np.argmax(color_ratio)\n",
    "                max_color_ratio_prob = color_ratio[max_color_ratio]\n",
    "                if max_color_ratio == 1 and max_color_ratio_prob > 0.8:\n",
    "                    chosen_shape = \"octagon\"\n",
    "                elif max_color_ratio == 0 and max_color_ratio_prob > 0.8:\n",
    "                    chosen_shape = \"circle\"\n",
    "                else:\n",
    "                    circularity = np.mean(np.vstack([\n",
    "                        probability_table[metrics.index(\"circularity\"), :n_classes],\n",
    "                        probability_table[metrics.index(\"circle_extent\"), :n_classes]\n",
    "                        ]), axis=0\n",
    "                    )\n",
    "                    max_circularity = np.argmax(circularity)\n",
    "                    max_circularity_prob = circularity[max_circularity]\n",
    "\n",
    "                    if max_circularity_prob > 0.8:\n",
    "                        if max_circularity == 0:\n",
    "                            chosen_shape = \"circle\"\n",
    "                        elif max_circularity == 2:\n",
    "                            chosen_shape = \"octagon\"\n",
    "                        else:\n",
    "                            chosen_shape = \"other\"\n",
    "                    else:\n",
    "                        chosen_shape = \"other\"\n",
    "            elif corner_prob > CORNER_THRESHOLD: # triangle\n",
    "                max_color_ratio = np.argmax(probability_table[metrics.index(\"color_ratio\"), :n_classes])\n",
    "                if max_color_ratio == 0 or max_color_ratio == 3: # circle | triangle\n",
    "                    max_circle_extent = np.argmax(probability_table[metrics.index(\"circle_extent\"), :n_classes])\n",
    "                    if max_circle_extent == 0 or max_circle_extent == 2:\n",
    "                        chosen_shape = \"other\"\n",
    "                    else:\n",
    "                        chosen_shape = \"triangle\"\n",
    "                else:\n",
    "                    chosen_shape = \"other\"\n",
    "            else:\n",
    "                chosen_shape = \"other\"\n",
    "\n",
    "    elif roi_type == \"blue\":\n",
    "        max_color_ratio = np.argmax(probability_table[metrics.index(\"color_ratio\"), :n_classes])\n",
    "        if max_color_ratio == 0 or max_color_ratio == 1: # circle | quadrilateral\n",
    "            max_corner = np.argmax(probability_table[metrics.index(\"corners\"), :n_classes])\n",
    "            corner_prob = probability_table[metrics.index(\"corners\"), max_corner]\n",
    "            if corner_prob < 0.40:\n",
    "                circularity = np.mean([\n",
    "                        probability_table[metrics.index(\"circularity\"), 0],\n",
    "                        probability_table[metrics.index(\"circle_extent\"), 0]\n",
    "                    ])\n",
    "                if circularity > 0.90:\n",
    "                    chosen_shape = \"circle\"\n",
    "                else:\n",
    "                    chosen_shape = \"other\"\n",
    "            else:\n",
    "                if (max_corner == 0 or max_corner == 2) and corner_prob > CORNER_THRESHOLD: # circle | octagon\n",
    "                    circularity = np.mean(np.vstack([\n",
    "                        probability_table[metrics.index(\"circularity\"), :n_classes],\n",
    "                        probability_table[metrics.index(\"circle_extent\"), :n_classes]\n",
    "                        ]), axis=0\n",
    "                    )\n",
    "                    max_circularity = np.argmax(circularity)\n",
    "\n",
    "                    if max_circularity == 0 or max_circularity == 2:\n",
    "                        chosen_shape = \"circle\"\n",
    "                    else:\n",
    "                        chosen_shape = \"other\"\n",
    "\n",
    "                elif max_corner == 1 and corner_prob > CORNER_THRESHOLD: # quadrilateral\n",
    "                    avg_prob = np.mean(probability_table[:-1, :-1], axis=0)\n",
    "                    quad_avg_prob = avg_prob[classes.index(\"quadrilateral\")]\n",
    "                    if quad_avg_prob > 0.7:\n",
    "                        chosen_shape = \"quadrilateral\"\n",
    "                    else:\n",
    "                        chosen_shape = \"other\"\n",
    "                elif corner_prob > CORNER_THRESHOLD: # triangle\n",
    "                    avg_prob = np.mean(probability_table[:-1, :-1], axis=0)\n",
    "                    max_avg_prob = np.argmax(avg_prob)\n",
    "                    if max_avg_prob != 1:\n",
    "                        chosen_shape = \"other\"\n",
    "                    else: \n",
    "                        quad_avg_prob = avg_prob[classes.index(\"quadrilateral\")]\n",
    "                        if quad_avg_prob > 0.7:\n",
    "                            chosen_shape = \"quadrilateral\"\n",
    "                        else:\n",
    "                            chosen_shape = \"other\"\n",
    "                else:\n",
    "                    chosen_shape = \"other\"\n",
    "        else:\n",
    "            chosen_shape = \"other\"\n",
    "\n",
    "    if return_probabilities:\n",
    "        df = pd.DataFrame(data=probability_table[:, :-1], columns=classes, index=metrics + [\"AVG(P)\"])\n",
    "        return chosen_shape, df\n",
    "\n",
    "    return chosen_shape\n",
    "\n",
    "output_image = src_image.copy()\n",
    "print(\"Shape detection for red RoI\")\n",
    "for roi in red_roi:\n",
    "    shape, prob_table = detect_shape(roi, \"red\", return_probabilities=True)\n",
    "\n",
    "    (x, y, w, h), contours, red_ratio, blue_ratio, white_black_ratio, red_blue_ratio, contourArea, sqp, trg, circle = roi\n",
    "    region = np.zeros_like(red_edges[y:y+h, x:x+w])\n",
    "    cv.drawContours(region, [contours], 0, color=(255), offset=(-x, -y))\n",
    "\n",
    "    print(f\"Dimensions: {w}x{h}\")\n",
    "    print(f\"Red Ratio: {red_ratio}\")\n",
    "    print(f\"Blue Ratio: {blue_ratio}\")\n",
    "    print(f\"White+Black Ratio: {white_black_ratio}\")\n",
    "    print(f\"Red Blue Ratio: {red_blue_ratio}\")\n",
    "    print(f\"Detected {shape}\")\n",
    "    print(prob_table)\n",
    "    fig, ax = display_gray_image(region)\n",
    "    plt.clf();\n",
    "\n",
    "    # Draw output\n",
    "    if shape != \"other\":\n",
    "        cv.drawContours(output_image, [contours], 0, color=(25, 255, 40), thickness=2)\n",
    "        output_class = output_classes[(shape, \"red\")]\n",
    "        cv.putText(output_image, output_class, (x, y - 5), cv.FONT_HERSHEY_SIMPLEX, 0.6, (25, 255, 40), 2, cv.LINE_AA)\n",
    "\n",
    "print(\"Shape detection for blue RoI\")\n",
    "for roi in blue_roi:\n",
    "    shape, prob_table = detect_shape(roi, \"blue\", return_probabilities=True)\n",
    "\n",
    "    (x, y, w, h), contours, red_ratio, blue_ratio, white_black_ratio, red_blue_ratio, contourArea, sqp, trg, circle = roi\n",
    "    region = np.zeros_like(blue_edges[y:y+h, x:x+w])\n",
    "    cv.drawContours(region, [contours], 0, color=(255), offset=(-x, -y))\n",
    "\n",
    "    print(f\"Dimensions: {w}x{h}\")\n",
    "    print(f\"Red Ratio: {red_ratio}\")\n",
    "    print(f\"Blue Ratio: {blue_ratio}\")\n",
    "    print(f\"White+Black Ratio: {white_black_ratio}\")\n",
    "    print(f\"Red Blue Ratio: {red_blue_ratio}\")\n",
    "    print(f\"Detected {shape}\")\n",
    "    print(prob_table)\n",
    "    fig, ax = display_gray_image(region)\n",
    "    plt.clf();\n",
    "\n",
    "    # Draw output\n",
    "    if shape != \"other\":\n",
    "        cv.drawContours(output_image, [contours], 0, color=(25, 255, 40), thickness=2)\n",
    "        output_class = output_classes[(shape, \"blue\")]\n",
    "        cv.putText(output_image, output_class, (x, y - 5), cv.FONT_HERSHEY_SIMPLEX, 0.6, (25, 255, 40), 2, cv.LINE_AA)"
   ]
  },
  {
   "cell_type": "markdown",
   "metadata": {},
   "source": [
    "# Output"
   ]
  },
  {
   "cell_type": "code",
   "execution_count": null,
   "metadata": {
    "pycharm": {
     "name": "#%%\n"
    }
   },
   "outputs": [],
   "source": [
    "display_bgr_image(output_image)"
   ]
  }
 ],
 "metadata": {
  "interpreter": {
   "hash": "54c6638086fab4cdd44262421cfa14d1d96be689a356dd3ef0d28ae6e964d53f"
  },
  "kernelspec": {
   "display_name": "Python 3.8.9 64-bit",
   "language": "python",
   "name": "python3"
  },
  "language_info": {
   "codemirror_mode": {
    "name": "ipython",
    "version": 3
   },
   "file_extension": ".py",
   "mimetype": "text/x-python",
   "name": "python",
   "nbconvert_exporter": "python",
   "pygments_lexer": "ipython3",
   "version": "3.8.9"
  },
  "orig_nbformat": 4
 },
 "nbformat": 4,
 "nbformat_minor": 2
}
